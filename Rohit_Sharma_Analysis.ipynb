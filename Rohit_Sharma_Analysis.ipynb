{
  "nbformat": 4,
  "nbformat_minor": 0,
  "metadata": {
    "colab": {
      "provenance": []
    },
    "kernelspec": {
      "name": "python3",
      "display_name": "Python 3"
    },
    "language_info": {
      "name": "python"
    }
  },
  "cells": [
    {
      "cell_type": "code",
      "execution_count": 1,
      "metadata": {
        "id": "Zkxg37zTjI8m"
      },
      "outputs": [],
      "source": [
        "import pandas as pd\n",
        "import numpy as np\n",
        "import matplotlib.pyplot as plt\n",
        "import seaborn as sns\n",
        "import warnings\n",
        "warnings.filterwarnings('ignore')"
      ]
    },
    {
      "cell_type": "code",
      "source": [
        "df=pd.read_csv('/content/Rohit_Sharma_Centuries.csv')"
      ],
      "metadata": {
        "id": "AoXbosxDkNIv"
      },
      "execution_count": 3,
      "outputs": []
    },
    {
      "cell_type": "code",
      "source": [
        "df.head(10)"
      ],
      "metadata": {
        "colab": {
          "base_uri": "https://localhost:8080/",
          "height": 554
        },
        "id": "HH7_YVwPkTLX",
        "outputId": "db07fc1a-eed8-47e3-8d54-645b68a6d4a2"
      },
      "execution_count": 5,
      "outputs": [
        {
          "output_type": "execute_result",
          "data": {
            "text/plain": [
              "   S.No.        Date  Score  Strike Rate Type of Match  Position  Innings  \\\n",
              "0      1  28-05-2010    114        95.79           ODI         4        1   \n",
              "1      2  30-05-2010    101       170.00           ODI         4        2   \n",
              "2      3  16-10-2013    141       114.63           ODI         1        2   \n",
              "3      4  02-11-2013    209       132.27           ODI         1        1   \n",
              "4      5  13-11-2014    264       152.60           ODI         2        1   \n",
              "5      6  18-01-2015    138        99.28           ODI         1        1   \n",
              "6      7  19-03-2015    137       108.73           ODI         1        1   \n",
              "7      8  11-10-2015    150       112.78           ODI         1        2   \n",
              "8      9  12-01-2016    171       104.90           ODI         1        1   \n",
              "9     10  15-01-2016    124        97.63           ODI         1        1   \n",
              "\n",
              "  Dismissed  Man of the Match Captain       Against  \\\n",
              "0        Yes               No      No      Zimbabwe   \n",
              "1         No              Yes      No     Sri Lanka   \n",
              "2         No              Yes      No     Australia   \n",
              "3        Yes              Yes      No     Australia   \n",
              "4        Yes              Yes      No     Sri Lanka   \n",
              "5        Yes               No      No     Australia   \n",
              "6        Yes              Yes      No    Bangladesh   \n",
              "7        Yes               No      No  South Africa   \n",
              "8         No               No      No     Australia   \n",
              "9        Yes              Yes      No     Australia   \n",
              "\n",
              "                                 Venue    H/A/N Result  \n",
              "0         Queens Sports Club, Bulawayo     Away   Lost  \n",
              "1         Queens Sports Club, Bulawayo  Neutral    Won  \n",
              "2       Sawai Mansingh Stadium, Jaipur     Home    Won  \n",
              "3    M. Chinnaswamy Stadium, Bangalore     Home    Won  \n",
              "4                Eden Gardens, Kolkata     Home    Won  \n",
              "5  Melbourne Cricket Ground, Melbourne     Away   Lost  \n",
              "6  Melbourne Cricket Ground, Melbourne  Neutral    Won  \n",
              "7           Green Park Stadium, Kanpur     Home   Lost  \n",
              "8                   WACA Ground, Perth     Away   Lost  \n",
              "9                  The Gabba, Brisbane     Away   Lost  "
            ],
            "text/html": [
              "\n",
              "  <div id=\"df-df764b86-7709-4111-8cda-aa3960816f30\" class=\"colab-df-container\">\n",
              "    <div>\n",
              "<style scoped>\n",
              "    .dataframe tbody tr th:only-of-type {\n",
              "        vertical-align: middle;\n",
              "    }\n",
              "\n",
              "    .dataframe tbody tr th {\n",
              "        vertical-align: top;\n",
              "    }\n",
              "\n",
              "    .dataframe thead th {\n",
              "        text-align: right;\n",
              "    }\n",
              "</style>\n",
              "<table border=\"1\" class=\"dataframe\">\n",
              "  <thead>\n",
              "    <tr style=\"text-align: right;\">\n",
              "      <th></th>\n",
              "      <th>S.No.</th>\n",
              "      <th>Date</th>\n",
              "      <th>Score</th>\n",
              "      <th>Strike Rate</th>\n",
              "      <th>Type of Match</th>\n",
              "      <th>Position</th>\n",
              "      <th>Innings</th>\n",
              "      <th>Dismissed</th>\n",
              "      <th>Man of the Match</th>\n",
              "      <th>Captain</th>\n",
              "      <th>Against</th>\n",
              "      <th>Venue</th>\n",
              "      <th>H/A/N</th>\n",
              "      <th>Result</th>\n",
              "    </tr>\n",
              "  </thead>\n",
              "  <tbody>\n",
              "    <tr>\n",
              "      <th>0</th>\n",
              "      <td>1</td>\n",
              "      <td>28-05-2010</td>\n",
              "      <td>114</td>\n",
              "      <td>95.79</td>\n",
              "      <td>ODI</td>\n",
              "      <td>4</td>\n",
              "      <td>1</td>\n",
              "      <td>Yes</td>\n",
              "      <td>No</td>\n",
              "      <td>No</td>\n",
              "      <td>Zimbabwe</td>\n",
              "      <td>Queens Sports Club, Bulawayo</td>\n",
              "      <td>Away</td>\n",
              "      <td>Lost</td>\n",
              "    </tr>\n",
              "    <tr>\n",
              "      <th>1</th>\n",
              "      <td>2</td>\n",
              "      <td>30-05-2010</td>\n",
              "      <td>101</td>\n",
              "      <td>170.00</td>\n",
              "      <td>ODI</td>\n",
              "      <td>4</td>\n",
              "      <td>2</td>\n",
              "      <td>No</td>\n",
              "      <td>Yes</td>\n",
              "      <td>No</td>\n",
              "      <td>Sri Lanka</td>\n",
              "      <td>Queens Sports Club, Bulawayo</td>\n",
              "      <td>Neutral</td>\n",
              "      <td>Won</td>\n",
              "    </tr>\n",
              "    <tr>\n",
              "      <th>2</th>\n",
              "      <td>3</td>\n",
              "      <td>16-10-2013</td>\n",
              "      <td>141</td>\n",
              "      <td>114.63</td>\n",
              "      <td>ODI</td>\n",
              "      <td>1</td>\n",
              "      <td>2</td>\n",
              "      <td>No</td>\n",
              "      <td>Yes</td>\n",
              "      <td>No</td>\n",
              "      <td>Australia</td>\n",
              "      <td>Sawai Mansingh Stadium, Jaipur</td>\n",
              "      <td>Home</td>\n",
              "      <td>Won</td>\n",
              "    </tr>\n",
              "    <tr>\n",
              "      <th>3</th>\n",
              "      <td>4</td>\n",
              "      <td>02-11-2013</td>\n",
              "      <td>209</td>\n",
              "      <td>132.27</td>\n",
              "      <td>ODI</td>\n",
              "      <td>1</td>\n",
              "      <td>1</td>\n",
              "      <td>Yes</td>\n",
              "      <td>Yes</td>\n",
              "      <td>No</td>\n",
              "      <td>Australia</td>\n",
              "      <td>M. Chinnaswamy Stadium, Bangalore</td>\n",
              "      <td>Home</td>\n",
              "      <td>Won</td>\n",
              "    </tr>\n",
              "    <tr>\n",
              "      <th>4</th>\n",
              "      <td>5</td>\n",
              "      <td>13-11-2014</td>\n",
              "      <td>264</td>\n",
              "      <td>152.60</td>\n",
              "      <td>ODI</td>\n",
              "      <td>2</td>\n",
              "      <td>1</td>\n",
              "      <td>Yes</td>\n",
              "      <td>Yes</td>\n",
              "      <td>No</td>\n",
              "      <td>Sri Lanka</td>\n",
              "      <td>Eden Gardens, Kolkata</td>\n",
              "      <td>Home</td>\n",
              "      <td>Won</td>\n",
              "    </tr>\n",
              "    <tr>\n",
              "      <th>5</th>\n",
              "      <td>6</td>\n",
              "      <td>18-01-2015</td>\n",
              "      <td>138</td>\n",
              "      <td>99.28</td>\n",
              "      <td>ODI</td>\n",
              "      <td>1</td>\n",
              "      <td>1</td>\n",
              "      <td>Yes</td>\n",
              "      <td>No</td>\n",
              "      <td>No</td>\n",
              "      <td>Australia</td>\n",
              "      <td>Melbourne Cricket Ground, Melbourne</td>\n",
              "      <td>Away</td>\n",
              "      <td>Lost</td>\n",
              "    </tr>\n",
              "    <tr>\n",
              "      <th>6</th>\n",
              "      <td>7</td>\n",
              "      <td>19-03-2015</td>\n",
              "      <td>137</td>\n",
              "      <td>108.73</td>\n",
              "      <td>ODI</td>\n",
              "      <td>1</td>\n",
              "      <td>1</td>\n",
              "      <td>Yes</td>\n",
              "      <td>Yes</td>\n",
              "      <td>No</td>\n",
              "      <td>Bangladesh</td>\n",
              "      <td>Melbourne Cricket Ground, Melbourne</td>\n",
              "      <td>Neutral</td>\n",
              "      <td>Won</td>\n",
              "    </tr>\n",
              "    <tr>\n",
              "      <th>7</th>\n",
              "      <td>8</td>\n",
              "      <td>11-10-2015</td>\n",
              "      <td>150</td>\n",
              "      <td>112.78</td>\n",
              "      <td>ODI</td>\n",
              "      <td>1</td>\n",
              "      <td>2</td>\n",
              "      <td>Yes</td>\n",
              "      <td>No</td>\n",
              "      <td>No</td>\n",
              "      <td>South Africa</td>\n",
              "      <td>Green Park Stadium, Kanpur</td>\n",
              "      <td>Home</td>\n",
              "      <td>Lost</td>\n",
              "    </tr>\n",
              "    <tr>\n",
              "      <th>8</th>\n",
              "      <td>9</td>\n",
              "      <td>12-01-2016</td>\n",
              "      <td>171</td>\n",
              "      <td>104.90</td>\n",
              "      <td>ODI</td>\n",
              "      <td>1</td>\n",
              "      <td>1</td>\n",
              "      <td>No</td>\n",
              "      <td>No</td>\n",
              "      <td>No</td>\n",
              "      <td>Australia</td>\n",
              "      <td>WACA Ground, Perth</td>\n",
              "      <td>Away</td>\n",
              "      <td>Lost</td>\n",
              "    </tr>\n",
              "    <tr>\n",
              "      <th>9</th>\n",
              "      <td>10</td>\n",
              "      <td>15-01-2016</td>\n",
              "      <td>124</td>\n",
              "      <td>97.63</td>\n",
              "      <td>ODI</td>\n",
              "      <td>1</td>\n",
              "      <td>1</td>\n",
              "      <td>Yes</td>\n",
              "      <td>Yes</td>\n",
              "      <td>No</td>\n",
              "      <td>Australia</td>\n",
              "      <td>The Gabba, Brisbane</td>\n",
              "      <td>Away</td>\n",
              "      <td>Lost</td>\n",
              "    </tr>\n",
              "  </tbody>\n",
              "</table>\n",
              "</div>\n",
              "    <div class=\"colab-df-buttons\">\n",
              "\n",
              "  <div class=\"colab-df-container\">\n",
              "    <button class=\"colab-df-convert\" onclick=\"convertToInteractive('df-df764b86-7709-4111-8cda-aa3960816f30')\"\n",
              "            title=\"Convert this dataframe to an interactive table.\"\n",
              "            style=\"display:none;\">\n",
              "\n",
              "  <svg xmlns=\"http://www.w3.org/2000/svg\" height=\"24px\" viewBox=\"0 -960 960 960\">\n",
              "    <path d=\"M120-120v-720h720v720H120Zm60-500h600v-160H180v160Zm220 220h160v-160H400v160Zm0 220h160v-160H400v160ZM180-400h160v-160H180v160Zm440 0h160v-160H620v160ZM180-180h160v-160H180v160Zm440 0h160v-160H620v160Z\"/>\n",
              "  </svg>\n",
              "    </button>\n",
              "\n",
              "  <style>\n",
              "    .colab-df-container {\n",
              "      display:flex;\n",
              "      gap: 12px;\n",
              "    }\n",
              "\n",
              "    .colab-df-convert {\n",
              "      background-color: #E8F0FE;\n",
              "      border: none;\n",
              "      border-radius: 50%;\n",
              "      cursor: pointer;\n",
              "      display: none;\n",
              "      fill: #1967D2;\n",
              "      height: 32px;\n",
              "      padding: 0 0 0 0;\n",
              "      width: 32px;\n",
              "    }\n",
              "\n",
              "    .colab-df-convert:hover {\n",
              "      background-color: #E2EBFA;\n",
              "      box-shadow: 0px 1px 2px rgba(60, 64, 67, 0.3), 0px 1px 3px 1px rgba(60, 64, 67, 0.15);\n",
              "      fill: #174EA6;\n",
              "    }\n",
              "\n",
              "    .colab-df-buttons div {\n",
              "      margin-bottom: 4px;\n",
              "    }\n",
              "\n",
              "    [theme=dark] .colab-df-convert {\n",
              "      background-color: #3B4455;\n",
              "      fill: #D2E3FC;\n",
              "    }\n",
              "\n",
              "    [theme=dark] .colab-df-convert:hover {\n",
              "      background-color: #434B5C;\n",
              "      box-shadow: 0px 1px 3px 1px rgba(0, 0, 0, 0.15);\n",
              "      filter: drop-shadow(0px 1px 2px rgba(0, 0, 0, 0.3));\n",
              "      fill: #FFFFFF;\n",
              "    }\n",
              "  </style>\n",
              "\n",
              "    <script>\n",
              "      const buttonEl =\n",
              "        document.querySelector('#df-df764b86-7709-4111-8cda-aa3960816f30 button.colab-df-convert');\n",
              "      buttonEl.style.display =\n",
              "        google.colab.kernel.accessAllowed ? 'block' : 'none';\n",
              "\n",
              "      async function convertToInteractive(key) {\n",
              "        const element = document.querySelector('#df-df764b86-7709-4111-8cda-aa3960816f30');\n",
              "        const dataTable =\n",
              "          await google.colab.kernel.invokeFunction('convertToInteractive',\n",
              "                                                    [key], {});\n",
              "        if (!dataTable) return;\n",
              "\n",
              "        const docLinkHtml = 'Like what you see? Visit the ' +\n",
              "          '<a target=\"_blank\" href=https://colab.research.google.com/notebooks/data_table.ipynb>data table notebook</a>'\n",
              "          + ' to learn more about interactive tables.';\n",
              "        element.innerHTML = '';\n",
              "        dataTable['output_type'] = 'display_data';\n",
              "        await google.colab.output.renderOutput(dataTable, element);\n",
              "        const docLink = document.createElement('div');\n",
              "        docLink.innerHTML = docLinkHtml;\n",
              "        element.appendChild(docLink);\n",
              "      }\n",
              "    </script>\n",
              "  </div>\n",
              "\n",
              "\n",
              "<div id=\"df-6dabbb41-4c1d-4453-86ca-82f3cbdfbf0e\">\n",
              "  <button class=\"colab-df-quickchart\" onclick=\"quickchart('df-6dabbb41-4c1d-4453-86ca-82f3cbdfbf0e')\"\n",
              "            title=\"Suggest charts\"\n",
              "            style=\"display:none;\">\n",
              "\n",
              "<svg xmlns=\"http://www.w3.org/2000/svg\" height=\"24px\"viewBox=\"0 0 24 24\"\n",
              "     width=\"24px\">\n",
              "    <g>\n",
              "        <path d=\"M19 3H5c-1.1 0-2 .9-2 2v14c0 1.1.9 2 2 2h14c1.1 0 2-.9 2-2V5c0-1.1-.9-2-2-2zM9 17H7v-7h2v7zm4 0h-2V7h2v10zm4 0h-2v-4h2v4z\"/>\n",
              "    </g>\n",
              "</svg>\n",
              "  </button>\n",
              "\n",
              "<style>\n",
              "  .colab-df-quickchart {\n",
              "      --bg-color: #E8F0FE;\n",
              "      --fill-color: #1967D2;\n",
              "      --hover-bg-color: #E2EBFA;\n",
              "      --hover-fill-color: #174EA6;\n",
              "      --disabled-fill-color: #AAA;\n",
              "      --disabled-bg-color: #DDD;\n",
              "  }\n",
              "\n",
              "  [theme=dark] .colab-df-quickchart {\n",
              "      --bg-color: #3B4455;\n",
              "      --fill-color: #D2E3FC;\n",
              "      --hover-bg-color: #434B5C;\n",
              "      --hover-fill-color: #FFFFFF;\n",
              "      --disabled-bg-color: #3B4455;\n",
              "      --disabled-fill-color: #666;\n",
              "  }\n",
              "\n",
              "  .colab-df-quickchart {\n",
              "    background-color: var(--bg-color);\n",
              "    border: none;\n",
              "    border-radius: 50%;\n",
              "    cursor: pointer;\n",
              "    display: none;\n",
              "    fill: var(--fill-color);\n",
              "    height: 32px;\n",
              "    padding: 0;\n",
              "    width: 32px;\n",
              "  }\n",
              "\n",
              "  .colab-df-quickchart:hover {\n",
              "    background-color: var(--hover-bg-color);\n",
              "    box-shadow: 0 1px 2px rgba(60, 64, 67, 0.3), 0 1px 3px 1px rgba(60, 64, 67, 0.15);\n",
              "    fill: var(--button-hover-fill-color);\n",
              "  }\n",
              "\n",
              "  .colab-df-quickchart-complete:disabled,\n",
              "  .colab-df-quickchart-complete:disabled:hover {\n",
              "    background-color: var(--disabled-bg-color);\n",
              "    fill: var(--disabled-fill-color);\n",
              "    box-shadow: none;\n",
              "  }\n",
              "\n",
              "  .colab-df-spinner {\n",
              "    border: 2px solid var(--fill-color);\n",
              "    border-color: transparent;\n",
              "    border-bottom-color: var(--fill-color);\n",
              "    animation:\n",
              "      spin 1s steps(1) infinite;\n",
              "  }\n",
              "\n",
              "  @keyframes spin {\n",
              "    0% {\n",
              "      border-color: transparent;\n",
              "      border-bottom-color: var(--fill-color);\n",
              "      border-left-color: var(--fill-color);\n",
              "    }\n",
              "    20% {\n",
              "      border-color: transparent;\n",
              "      border-left-color: var(--fill-color);\n",
              "      border-top-color: var(--fill-color);\n",
              "    }\n",
              "    30% {\n",
              "      border-color: transparent;\n",
              "      border-left-color: var(--fill-color);\n",
              "      border-top-color: var(--fill-color);\n",
              "      border-right-color: var(--fill-color);\n",
              "    }\n",
              "    40% {\n",
              "      border-color: transparent;\n",
              "      border-right-color: var(--fill-color);\n",
              "      border-top-color: var(--fill-color);\n",
              "    }\n",
              "    60% {\n",
              "      border-color: transparent;\n",
              "      border-right-color: var(--fill-color);\n",
              "    }\n",
              "    80% {\n",
              "      border-color: transparent;\n",
              "      border-right-color: var(--fill-color);\n",
              "      border-bottom-color: var(--fill-color);\n",
              "    }\n",
              "    90% {\n",
              "      border-color: transparent;\n",
              "      border-bottom-color: var(--fill-color);\n",
              "    }\n",
              "  }\n",
              "</style>\n",
              "\n",
              "  <script>\n",
              "    async function quickchart(key) {\n",
              "      const quickchartButtonEl =\n",
              "        document.querySelector('#' + key + ' button');\n",
              "      quickchartButtonEl.disabled = true;  // To prevent multiple clicks.\n",
              "      quickchartButtonEl.classList.add('colab-df-spinner');\n",
              "      try {\n",
              "        const charts = await google.colab.kernel.invokeFunction(\n",
              "            'suggestCharts', [key], {});\n",
              "      } catch (error) {\n",
              "        console.error('Error during call to suggestCharts:', error);\n",
              "      }\n",
              "      quickchartButtonEl.classList.remove('colab-df-spinner');\n",
              "      quickchartButtonEl.classList.add('colab-df-quickchart-complete');\n",
              "    }\n",
              "    (() => {\n",
              "      let quickchartButtonEl =\n",
              "        document.querySelector('#df-6dabbb41-4c1d-4453-86ca-82f3cbdfbf0e button');\n",
              "      quickchartButtonEl.style.display =\n",
              "        google.colab.kernel.accessAllowed ? 'block' : 'none';\n",
              "    })();\n",
              "  </script>\n",
              "</div>\n",
              "\n",
              "    </div>\n",
              "  </div>\n"
            ],
            "application/vnd.google.colaboratory.intrinsic+json": {
              "type": "dataframe",
              "variable_name": "df",
              "summary": "{\n  \"name\": \"df\",\n  \"rows\": 48,\n  \"fields\": [\n    {\n      \"column\": \"S.No.\",\n      \"properties\": {\n        \"dtype\": \"number\",\n        \"std\": 14,\n        \"min\": 1,\n        \"max\": 48,\n        \"num_unique_values\": 48,\n        \"samples\": [\n          28,\n          41,\n          27\n        ],\n        \"semantic_type\": \"\",\n        \"description\": \"\"\n      }\n    },\n    {\n      \"column\": \"Date\",\n      \"properties\": {\n        \"dtype\": \"object\",\n        \"num_unique_values\": 47,\n        \"samples\": [\n          \"18-12-2019\",\n          \"12-07-2023\",\n          \"06-07-2019\"\n        ],\n        \"semantic_type\": \"\",\n        \"description\": \"\"\n      }\n    },\n    {\n      \"column\": \"Score\",\n      \"properties\": {\n        \"dtype\": \"number\",\n        \"std\": 34,\n        \"min\": 100,\n        \"max\": 264,\n        \"num_unique_values\": 37,\n        \"samples\": [\n          152,\n          147,\n          264\n        ],\n        \"semantic_type\": \"\",\n        \"description\": \"\"\n      }\n    },\n    {\n      \"column\": \"Strike Rate\",\n      \"properties\": {\n        \"dtype\": \"number\",\n        \"std\": 41.704400693328715,\n        \"min\": 50.56,\n        \"max\": 274.41,\n        \"num_unique_values\": 48,\n        \"samples\": [\n          115.21,\n          58.05,\n          109.57\n        ],\n        \"semantic_type\": \"\",\n        \"description\": \"\"\n      }\n    },\n    {\n      \"column\": \"Type of Match\",\n      \"properties\": {\n        \"dtype\": \"category\",\n        \"num_unique_values\": 3,\n        \"samples\": [\n          \"ODI\",\n          \"Test\",\n          \"T20\"\n        ],\n        \"semantic_type\": \"\",\n        \"description\": \"\"\n      }\n    },\n    {\n      \"column\": \"Position\",\n      \"properties\": {\n        \"dtype\": \"number\",\n        \"std\": 1,\n        \"min\": 1,\n        \"max\": 6,\n        \"num_unique_values\": 4,\n        \"samples\": [\n          1,\n          6,\n          4\n        ],\n        \"semantic_type\": \"\",\n        \"description\": \"\"\n      }\n    },\n    {\n      \"column\": \"Innings\",\n      \"properties\": {\n        \"dtype\": \"number\",\n        \"std\": 0,\n        \"min\": 1,\n        \"max\": 3,\n        \"num_unique_values\": 3,\n        \"samples\": [\n          1,\n          2,\n          3\n        ],\n        \"semantic_type\": \"\",\n        \"description\": \"\"\n      }\n    },\n    {\n      \"column\": \"Dismissed \",\n      \"properties\": {\n        \"dtype\": \"category\",\n        \"num_unique_values\": 2,\n        \"samples\": [\n          \"No\",\n          \"Yes\"\n        ],\n        \"semantic_type\": \"\",\n        \"description\": \"\"\n      }\n    },\n    {\n      \"column\": \"Man of the Match\",\n      \"properties\": {\n        \"dtype\": \"category\",\n        \"num_unique_values\": 2,\n        \"samples\": [\n          \"Yes\",\n          \"No\"\n        ],\n        \"semantic_type\": \"\",\n        \"description\": \"\"\n      }\n    },\n    {\n      \"column\": \"Captain\",\n      \"properties\": {\n        \"dtype\": \"category\",\n        \"num_unique_values\": 2,\n        \"samples\": [\n          \"Yes\",\n          \"No\"\n        ],\n        \"semantic_type\": \"\",\n        \"description\": \"\"\n      }\n    },\n    {\n      \"column\": \"Against\",\n      \"properties\": {\n        \"dtype\": \"category\",\n        \"num_unique_values\": 10,\n        \"samples\": [\n          \"West Indies\",\n          \"Sri Lanka\"\n        ],\n        \"semantic_type\": \"\",\n        \"description\": \"\"\n      }\n    },\n    {\n      \"column\": \"Venue\",\n      \"properties\": {\n        \"dtype\": \"string\",\n        \"num_unique_values\": 35,\n        \"samples\": [\n          \"VDCA Cricket Stadium, Vishakhapatnam\",\n          \"St. George's Park, Port Elizabeth\"\n        ],\n        \"semantic_type\": \"\",\n        \"description\": \"\"\n      }\n    },\n    {\n      \"column\": \"H/A/N\",\n      \"properties\": {\n        \"dtype\": \"category\",\n        \"num_unique_values\": 3,\n        \"samples\": [\n          \"Away\",\n          \"Neutral\"\n        ],\n        \"semantic_type\": \"\",\n        \"description\": \"\"\n      }\n    },\n    {\n      \"column\": \"Result\",\n      \"properties\": {\n        \"dtype\": \"category\",\n        \"num_unique_values\": 3,\n        \"samples\": [\n          \"Lost\",\n          \"Won\"\n        ],\n        \"semantic_type\": \"\",\n        \"description\": \"\"\n      }\n    }\n  ]\n}"
            }
          },
          "metadata": {},
          "execution_count": 5
        }
      ]
    },
    {
      "cell_type": "code",
      "source": [
        "df.drop(['S.No.','Date'],axis=1,inplace=True)"
      ],
      "metadata": {
        "id": "-JjKnz79kWy4"
      },
      "execution_count": 6,
      "outputs": []
    },
    {
      "cell_type": "code",
      "source": [
        "df.head(10)"
      ],
      "metadata": {
        "colab": {
          "base_uri": "https://localhost:8080/",
          "height": 449
        },
        "id": "nKqNQetSki8T",
        "outputId": "c94ff323-6ecd-44ee-d4e8-0c83b6083c2d"
      },
      "execution_count": 7,
      "outputs": [
        {
          "output_type": "execute_result",
          "data": {
            "text/plain": [
              "   Score  Strike Rate Type of Match  Position  Innings Dismissed   \\\n",
              "0    114        95.79           ODI         4        1        Yes   \n",
              "1    101       170.00           ODI         4        2         No   \n",
              "2    141       114.63           ODI         1        2         No   \n",
              "3    209       132.27           ODI         1        1        Yes   \n",
              "4    264       152.60           ODI         2        1        Yes   \n",
              "5    138        99.28           ODI         1        1        Yes   \n",
              "6    137       108.73           ODI         1        1        Yes   \n",
              "7    150       112.78           ODI         1        2        Yes   \n",
              "8    171       104.90           ODI         1        1         No   \n",
              "9    124        97.63           ODI         1        1        Yes   \n",
              "\n",
              "  Man of the Match Captain       Against                                Venue  \\\n",
              "0               No      No      Zimbabwe         Queens Sports Club, Bulawayo   \n",
              "1              Yes      No     Sri Lanka         Queens Sports Club, Bulawayo   \n",
              "2              Yes      No     Australia       Sawai Mansingh Stadium, Jaipur   \n",
              "3              Yes      No     Australia    M. Chinnaswamy Stadium, Bangalore   \n",
              "4              Yes      No     Sri Lanka                Eden Gardens, Kolkata   \n",
              "5               No      No     Australia  Melbourne Cricket Ground, Melbourne   \n",
              "6              Yes      No    Bangladesh  Melbourne Cricket Ground, Melbourne   \n",
              "7               No      No  South Africa           Green Park Stadium, Kanpur   \n",
              "8               No      No     Australia                   WACA Ground, Perth   \n",
              "9              Yes      No     Australia                  The Gabba, Brisbane   \n",
              "\n",
              "     H/A/N Result  \n",
              "0     Away   Lost  \n",
              "1  Neutral    Won  \n",
              "2     Home    Won  \n",
              "3     Home    Won  \n",
              "4     Home    Won  \n",
              "5     Away   Lost  \n",
              "6  Neutral    Won  \n",
              "7     Home   Lost  \n",
              "8     Away   Lost  \n",
              "9     Away   Lost  "
            ],
            "text/html": [
              "\n",
              "  <div id=\"df-85a437e5-f4b0-40ce-a8f9-4b429e9dfdd5\" class=\"colab-df-container\">\n",
              "    <div>\n",
              "<style scoped>\n",
              "    .dataframe tbody tr th:only-of-type {\n",
              "        vertical-align: middle;\n",
              "    }\n",
              "\n",
              "    .dataframe tbody tr th {\n",
              "        vertical-align: top;\n",
              "    }\n",
              "\n",
              "    .dataframe thead th {\n",
              "        text-align: right;\n",
              "    }\n",
              "</style>\n",
              "<table border=\"1\" class=\"dataframe\">\n",
              "  <thead>\n",
              "    <tr style=\"text-align: right;\">\n",
              "      <th></th>\n",
              "      <th>Score</th>\n",
              "      <th>Strike Rate</th>\n",
              "      <th>Type of Match</th>\n",
              "      <th>Position</th>\n",
              "      <th>Innings</th>\n",
              "      <th>Dismissed</th>\n",
              "      <th>Man of the Match</th>\n",
              "      <th>Captain</th>\n",
              "      <th>Against</th>\n",
              "      <th>Venue</th>\n",
              "      <th>H/A/N</th>\n",
              "      <th>Result</th>\n",
              "    </tr>\n",
              "  </thead>\n",
              "  <tbody>\n",
              "    <tr>\n",
              "      <th>0</th>\n",
              "      <td>114</td>\n",
              "      <td>95.79</td>\n",
              "      <td>ODI</td>\n",
              "      <td>4</td>\n",
              "      <td>1</td>\n",
              "      <td>Yes</td>\n",
              "      <td>No</td>\n",
              "      <td>No</td>\n",
              "      <td>Zimbabwe</td>\n",
              "      <td>Queens Sports Club, Bulawayo</td>\n",
              "      <td>Away</td>\n",
              "      <td>Lost</td>\n",
              "    </tr>\n",
              "    <tr>\n",
              "      <th>1</th>\n",
              "      <td>101</td>\n",
              "      <td>170.00</td>\n",
              "      <td>ODI</td>\n",
              "      <td>4</td>\n",
              "      <td>2</td>\n",
              "      <td>No</td>\n",
              "      <td>Yes</td>\n",
              "      <td>No</td>\n",
              "      <td>Sri Lanka</td>\n",
              "      <td>Queens Sports Club, Bulawayo</td>\n",
              "      <td>Neutral</td>\n",
              "      <td>Won</td>\n",
              "    </tr>\n",
              "    <tr>\n",
              "      <th>2</th>\n",
              "      <td>141</td>\n",
              "      <td>114.63</td>\n",
              "      <td>ODI</td>\n",
              "      <td>1</td>\n",
              "      <td>2</td>\n",
              "      <td>No</td>\n",
              "      <td>Yes</td>\n",
              "      <td>No</td>\n",
              "      <td>Australia</td>\n",
              "      <td>Sawai Mansingh Stadium, Jaipur</td>\n",
              "      <td>Home</td>\n",
              "      <td>Won</td>\n",
              "    </tr>\n",
              "    <tr>\n",
              "      <th>3</th>\n",
              "      <td>209</td>\n",
              "      <td>132.27</td>\n",
              "      <td>ODI</td>\n",
              "      <td>1</td>\n",
              "      <td>1</td>\n",
              "      <td>Yes</td>\n",
              "      <td>Yes</td>\n",
              "      <td>No</td>\n",
              "      <td>Australia</td>\n",
              "      <td>M. Chinnaswamy Stadium, Bangalore</td>\n",
              "      <td>Home</td>\n",
              "      <td>Won</td>\n",
              "    </tr>\n",
              "    <tr>\n",
              "      <th>4</th>\n",
              "      <td>264</td>\n",
              "      <td>152.60</td>\n",
              "      <td>ODI</td>\n",
              "      <td>2</td>\n",
              "      <td>1</td>\n",
              "      <td>Yes</td>\n",
              "      <td>Yes</td>\n",
              "      <td>No</td>\n",
              "      <td>Sri Lanka</td>\n",
              "      <td>Eden Gardens, Kolkata</td>\n",
              "      <td>Home</td>\n",
              "      <td>Won</td>\n",
              "    </tr>\n",
              "    <tr>\n",
              "      <th>5</th>\n",
              "      <td>138</td>\n",
              "      <td>99.28</td>\n",
              "      <td>ODI</td>\n",
              "      <td>1</td>\n",
              "      <td>1</td>\n",
              "      <td>Yes</td>\n",
              "      <td>No</td>\n",
              "      <td>No</td>\n",
              "      <td>Australia</td>\n",
              "      <td>Melbourne Cricket Ground, Melbourne</td>\n",
              "      <td>Away</td>\n",
              "      <td>Lost</td>\n",
              "    </tr>\n",
              "    <tr>\n",
              "      <th>6</th>\n",
              "      <td>137</td>\n",
              "      <td>108.73</td>\n",
              "      <td>ODI</td>\n",
              "      <td>1</td>\n",
              "      <td>1</td>\n",
              "      <td>Yes</td>\n",
              "      <td>Yes</td>\n",
              "      <td>No</td>\n",
              "      <td>Bangladesh</td>\n",
              "      <td>Melbourne Cricket Ground, Melbourne</td>\n",
              "      <td>Neutral</td>\n",
              "      <td>Won</td>\n",
              "    </tr>\n",
              "    <tr>\n",
              "      <th>7</th>\n",
              "      <td>150</td>\n",
              "      <td>112.78</td>\n",
              "      <td>ODI</td>\n",
              "      <td>1</td>\n",
              "      <td>2</td>\n",
              "      <td>Yes</td>\n",
              "      <td>No</td>\n",
              "      <td>No</td>\n",
              "      <td>South Africa</td>\n",
              "      <td>Green Park Stadium, Kanpur</td>\n",
              "      <td>Home</td>\n",
              "      <td>Lost</td>\n",
              "    </tr>\n",
              "    <tr>\n",
              "      <th>8</th>\n",
              "      <td>171</td>\n",
              "      <td>104.90</td>\n",
              "      <td>ODI</td>\n",
              "      <td>1</td>\n",
              "      <td>1</td>\n",
              "      <td>No</td>\n",
              "      <td>No</td>\n",
              "      <td>No</td>\n",
              "      <td>Australia</td>\n",
              "      <td>WACA Ground, Perth</td>\n",
              "      <td>Away</td>\n",
              "      <td>Lost</td>\n",
              "    </tr>\n",
              "    <tr>\n",
              "      <th>9</th>\n",
              "      <td>124</td>\n",
              "      <td>97.63</td>\n",
              "      <td>ODI</td>\n",
              "      <td>1</td>\n",
              "      <td>1</td>\n",
              "      <td>Yes</td>\n",
              "      <td>Yes</td>\n",
              "      <td>No</td>\n",
              "      <td>Australia</td>\n",
              "      <td>The Gabba, Brisbane</td>\n",
              "      <td>Away</td>\n",
              "      <td>Lost</td>\n",
              "    </tr>\n",
              "  </tbody>\n",
              "</table>\n",
              "</div>\n",
              "    <div class=\"colab-df-buttons\">\n",
              "\n",
              "  <div class=\"colab-df-container\">\n",
              "    <button class=\"colab-df-convert\" onclick=\"convertToInteractive('df-85a437e5-f4b0-40ce-a8f9-4b429e9dfdd5')\"\n",
              "            title=\"Convert this dataframe to an interactive table.\"\n",
              "            style=\"display:none;\">\n",
              "\n",
              "  <svg xmlns=\"http://www.w3.org/2000/svg\" height=\"24px\" viewBox=\"0 -960 960 960\">\n",
              "    <path d=\"M120-120v-720h720v720H120Zm60-500h600v-160H180v160Zm220 220h160v-160H400v160Zm0 220h160v-160H400v160ZM180-400h160v-160H180v160Zm440 0h160v-160H620v160ZM180-180h160v-160H180v160Zm440 0h160v-160H620v160Z\"/>\n",
              "  </svg>\n",
              "    </button>\n",
              "\n",
              "  <style>\n",
              "    .colab-df-container {\n",
              "      display:flex;\n",
              "      gap: 12px;\n",
              "    }\n",
              "\n",
              "    .colab-df-convert {\n",
              "      background-color: #E8F0FE;\n",
              "      border: none;\n",
              "      border-radius: 50%;\n",
              "      cursor: pointer;\n",
              "      display: none;\n",
              "      fill: #1967D2;\n",
              "      height: 32px;\n",
              "      padding: 0 0 0 0;\n",
              "      width: 32px;\n",
              "    }\n",
              "\n",
              "    .colab-df-convert:hover {\n",
              "      background-color: #E2EBFA;\n",
              "      box-shadow: 0px 1px 2px rgba(60, 64, 67, 0.3), 0px 1px 3px 1px rgba(60, 64, 67, 0.15);\n",
              "      fill: #174EA6;\n",
              "    }\n",
              "\n",
              "    .colab-df-buttons div {\n",
              "      margin-bottom: 4px;\n",
              "    }\n",
              "\n",
              "    [theme=dark] .colab-df-convert {\n",
              "      background-color: #3B4455;\n",
              "      fill: #D2E3FC;\n",
              "    }\n",
              "\n",
              "    [theme=dark] .colab-df-convert:hover {\n",
              "      background-color: #434B5C;\n",
              "      box-shadow: 0px 1px 3px 1px rgba(0, 0, 0, 0.15);\n",
              "      filter: drop-shadow(0px 1px 2px rgba(0, 0, 0, 0.3));\n",
              "      fill: #FFFFFF;\n",
              "    }\n",
              "  </style>\n",
              "\n",
              "    <script>\n",
              "      const buttonEl =\n",
              "        document.querySelector('#df-85a437e5-f4b0-40ce-a8f9-4b429e9dfdd5 button.colab-df-convert');\n",
              "      buttonEl.style.display =\n",
              "        google.colab.kernel.accessAllowed ? 'block' : 'none';\n",
              "\n",
              "      async function convertToInteractive(key) {\n",
              "        const element = document.querySelector('#df-85a437e5-f4b0-40ce-a8f9-4b429e9dfdd5');\n",
              "        const dataTable =\n",
              "          await google.colab.kernel.invokeFunction('convertToInteractive',\n",
              "                                                    [key], {});\n",
              "        if (!dataTable) return;\n",
              "\n",
              "        const docLinkHtml = 'Like what you see? Visit the ' +\n",
              "          '<a target=\"_blank\" href=https://colab.research.google.com/notebooks/data_table.ipynb>data table notebook</a>'\n",
              "          + ' to learn more about interactive tables.';\n",
              "        element.innerHTML = '';\n",
              "        dataTable['output_type'] = 'display_data';\n",
              "        await google.colab.output.renderOutput(dataTable, element);\n",
              "        const docLink = document.createElement('div');\n",
              "        docLink.innerHTML = docLinkHtml;\n",
              "        element.appendChild(docLink);\n",
              "      }\n",
              "    </script>\n",
              "  </div>\n",
              "\n",
              "\n",
              "<div id=\"df-9f805eab-53ec-4c1a-aae9-58e6de833404\">\n",
              "  <button class=\"colab-df-quickchart\" onclick=\"quickchart('df-9f805eab-53ec-4c1a-aae9-58e6de833404')\"\n",
              "            title=\"Suggest charts\"\n",
              "            style=\"display:none;\">\n",
              "\n",
              "<svg xmlns=\"http://www.w3.org/2000/svg\" height=\"24px\"viewBox=\"0 0 24 24\"\n",
              "     width=\"24px\">\n",
              "    <g>\n",
              "        <path d=\"M19 3H5c-1.1 0-2 .9-2 2v14c0 1.1.9 2 2 2h14c1.1 0 2-.9 2-2V5c0-1.1-.9-2-2-2zM9 17H7v-7h2v7zm4 0h-2V7h2v10zm4 0h-2v-4h2v4z\"/>\n",
              "    </g>\n",
              "</svg>\n",
              "  </button>\n",
              "\n",
              "<style>\n",
              "  .colab-df-quickchart {\n",
              "      --bg-color: #E8F0FE;\n",
              "      --fill-color: #1967D2;\n",
              "      --hover-bg-color: #E2EBFA;\n",
              "      --hover-fill-color: #174EA6;\n",
              "      --disabled-fill-color: #AAA;\n",
              "      --disabled-bg-color: #DDD;\n",
              "  }\n",
              "\n",
              "  [theme=dark] .colab-df-quickchart {\n",
              "      --bg-color: #3B4455;\n",
              "      --fill-color: #D2E3FC;\n",
              "      --hover-bg-color: #434B5C;\n",
              "      --hover-fill-color: #FFFFFF;\n",
              "      --disabled-bg-color: #3B4455;\n",
              "      --disabled-fill-color: #666;\n",
              "  }\n",
              "\n",
              "  .colab-df-quickchart {\n",
              "    background-color: var(--bg-color);\n",
              "    border: none;\n",
              "    border-radius: 50%;\n",
              "    cursor: pointer;\n",
              "    display: none;\n",
              "    fill: var(--fill-color);\n",
              "    height: 32px;\n",
              "    padding: 0;\n",
              "    width: 32px;\n",
              "  }\n",
              "\n",
              "  .colab-df-quickchart:hover {\n",
              "    background-color: var(--hover-bg-color);\n",
              "    box-shadow: 0 1px 2px rgba(60, 64, 67, 0.3), 0 1px 3px 1px rgba(60, 64, 67, 0.15);\n",
              "    fill: var(--button-hover-fill-color);\n",
              "  }\n",
              "\n",
              "  .colab-df-quickchart-complete:disabled,\n",
              "  .colab-df-quickchart-complete:disabled:hover {\n",
              "    background-color: var(--disabled-bg-color);\n",
              "    fill: var(--disabled-fill-color);\n",
              "    box-shadow: none;\n",
              "  }\n",
              "\n",
              "  .colab-df-spinner {\n",
              "    border: 2px solid var(--fill-color);\n",
              "    border-color: transparent;\n",
              "    border-bottom-color: var(--fill-color);\n",
              "    animation:\n",
              "      spin 1s steps(1) infinite;\n",
              "  }\n",
              "\n",
              "  @keyframes spin {\n",
              "    0% {\n",
              "      border-color: transparent;\n",
              "      border-bottom-color: var(--fill-color);\n",
              "      border-left-color: var(--fill-color);\n",
              "    }\n",
              "    20% {\n",
              "      border-color: transparent;\n",
              "      border-left-color: var(--fill-color);\n",
              "      border-top-color: var(--fill-color);\n",
              "    }\n",
              "    30% {\n",
              "      border-color: transparent;\n",
              "      border-left-color: var(--fill-color);\n",
              "      border-top-color: var(--fill-color);\n",
              "      border-right-color: var(--fill-color);\n",
              "    }\n",
              "    40% {\n",
              "      border-color: transparent;\n",
              "      border-right-color: var(--fill-color);\n",
              "      border-top-color: var(--fill-color);\n",
              "    }\n",
              "    60% {\n",
              "      border-color: transparent;\n",
              "      border-right-color: var(--fill-color);\n",
              "    }\n",
              "    80% {\n",
              "      border-color: transparent;\n",
              "      border-right-color: var(--fill-color);\n",
              "      border-bottom-color: var(--fill-color);\n",
              "    }\n",
              "    90% {\n",
              "      border-color: transparent;\n",
              "      border-bottom-color: var(--fill-color);\n",
              "    }\n",
              "  }\n",
              "</style>\n",
              "\n",
              "  <script>\n",
              "    async function quickchart(key) {\n",
              "      const quickchartButtonEl =\n",
              "        document.querySelector('#' + key + ' button');\n",
              "      quickchartButtonEl.disabled = true;  // To prevent multiple clicks.\n",
              "      quickchartButtonEl.classList.add('colab-df-spinner');\n",
              "      try {\n",
              "        const charts = await google.colab.kernel.invokeFunction(\n",
              "            'suggestCharts', [key], {});\n",
              "      } catch (error) {\n",
              "        console.error('Error during call to suggestCharts:', error);\n",
              "      }\n",
              "      quickchartButtonEl.classList.remove('colab-df-spinner');\n",
              "      quickchartButtonEl.classList.add('colab-df-quickchart-complete');\n",
              "    }\n",
              "    (() => {\n",
              "      let quickchartButtonEl =\n",
              "        document.querySelector('#df-9f805eab-53ec-4c1a-aae9-58e6de833404 button');\n",
              "      quickchartButtonEl.style.display =\n",
              "        google.colab.kernel.accessAllowed ? 'block' : 'none';\n",
              "    })();\n",
              "  </script>\n",
              "</div>\n",
              "\n",
              "    </div>\n",
              "  </div>\n"
            ],
            "application/vnd.google.colaboratory.intrinsic+json": {
              "type": "dataframe",
              "variable_name": "df",
              "summary": "{\n  \"name\": \"df\",\n  \"rows\": 48,\n  \"fields\": [\n    {\n      \"column\": \"Score\",\n      \"properties\": {\n        \"dtype\": \"number\",\n        \"std\": 34,\n        \"min\": 100,\n        \"max\": 264,\n        \"num_unique_values\": 37,\n        \"samples\": [\n          152,\n          147,\n          264\n        ],\n        \"semantic_type\": \"\",\n        \"description\": \"\"\n      }\n    },\n    {\n      \"column\": \"Strike Rate\",\n      \"properties\": {\n        \"dtype\": \"number\",\n        \"std\": 41.704400693328715,\n        \"min\": 50.56,\n        \"max\": 274.41,\n        \"num_unique_values\": 48,\n        \"samples\": [\n          115.21,\n          58.05,\n          109.57\n        ],\n        \"semantic_type\": \"\",\n        \"description\": \"\"\n      }\n    },\n    {\n      \"column\": \"Type of Match\",\n      \"properties\": {\n        \"dtype\": \"category\",\n        \"num_unique_values\": 3,\n        \"samples\": [\n          \"ODI\",\n          \"Test\",\n          \"T20\"\n        ],\n        \"semantic_type\": \"\",\n        \"description\": \"\"\n      }\n    },\n    {\n      \"column\": \"Position\",\n      \"properties\": {\n        \"dtype\": \"number\",\n        \"std\": 1,\n        \"min\": 1,\n        \"max\": 6,\n        \"num_unique_values\": 4,\n        \"samples\": [\n          1,\n          6,\n          4\n        ],\n        \"semantic_type\": \"\",\n        \"description\": \"\"\n      }\n    },\n    {\n      \"column\": \"Innings\",\n      \"properties\": {\n        \"dtype\": \"number\",\n        \"std\": 0,\n        \"min\": 1,\n        \"max\": 3,\n        \"num_unique_values\": 3,\n        \"samples\": [\n          1,\n          2,\n          3\n        ],\n        \"semantic_type\": \"\",\n        \"description\": \"\"\n      }\n    },\n    {\n      \"column\": \"Dismissed \",\n      \"properties\": {\n        \"dtype\": \"category\",\n        \"num_unique_values\": 2,\n        \"samples\": [\n          \"No\",\n          \"Yes\"\n        ],\n        \"semantic_type\": \"\",\n        \"description\": \"\"\n      }\n    },\n    {\n      \"column\": \"Man of the Match\",\n      \"properties\": {\n        \"dtype\": \"category\",\n        \"num_unique_values\": 2,\n        \"samples\": [\n          \"Yes\",\n          \"No\"\n        ],\n        \"semantic_type\": \"\",\n        \"description\": \"\"\n      }\n    },\n    {\n      \"column\": \"Captain\",\n      \"properties\": {\n        \"dtype\": \"category\",\n        \"num_unique_values\": 2,\n        \"samples\": [\n          \"Yes\",\n          \"No\"\n        ],\n        \"semantic_type\": \"\",\n        \"description\": \"\"\n      }\n    },\n    {\n      \"column\": \"Against\",\n      \"properties\": {\n        \"dtype\": \"category\",\n        \"num_unique_values\": 10,\n        \"samples\": [\n          \"West Indies\",\n          \"Sri Lanka\"\n        ],\n        \"semantic_type\": \"\",\n        \"description\": \"\"\n      }\n    },\n    {\n      \"column\": \"Venue\",\n      \"properties\": {\n        \"dtype\": \"string\",\n        \"num_unique_values\": 35,\n        \"samples\": [\n          \"VDCA Cricket Stadium, Vishakhapatnam\",\n          \"St. George's Park, Port Elizabeth\"\n        ],\n        \"semantic_type\": \"\",\n        \"description\": \"\"\n      }\n    },\n    {\n      \"column\": \"H/A/N\",\n      \"properties\": {\n        \"dtype\": \"category\",\n        \"num_unique_values\": 3,\n        \"samples\": [\n          \"Away\",\n          \"Neutral\"\n        ],\n        \"semantic_type\": \"\",\n        \"description\": \"\"\n      }\n    },\n    {\n      \"column\": \"Result\",\n      \"properties\": {\n        \"dtype\": \"category\",\n        \"num_unique_values\": 3,\n        \"samples\": [\n          \"Lost\",\n          \"Won\"\n        ],\n        \"semantic_type\": \"\",\n        \"description\": \"\"\n      }\n    }\n  ]\n}"
            }
          },
          "metadata": {},
          "execution_count": 7
        }
      ]
    },
    {
      "cell_type": "code",
      "source": [
        "df.info()"
      ],
      "metadata": {
        "colab": {
          "base_uri": "https://localhost:8080/"
        },
        "id": "BC7Kc2mxkrmg",
        "outputId": "c79f23c4-e313-4cb6-be38-c8392a7461e9"
      },
      "execution_count": 8,
      "outputs": [
        {
          "output_type": "stream",
          "name": "stdout",
          "text": [
            "<class 'pandas.core.frame.DataFrame'>\n",
            "RangeIndex: 48 entries, 0 to 47\n",
            "Data columns (total 12 columns):\n",
            " #   Column            Non-Null Count  Dtype  \n",
            "---  ------            --------------  -----  \n",
            " 0   Score             48 non-null     int64  \n",
            " 1   Strike Rate       48 non-null     float64\n",
            " 2   Type of Match     48 non-null     object \n",
            " 3   Position          48 non-null     int64  \n",
            " 4   Innings           48 non-null     int64  \n",
            " 5   Dismissed         48 non-null     object \n",
            " 6   Man of the Match  48 non-null     object \n",
            " 7   Captain           48 non-null     object \n",
            " 8   Against           48 non-null     object \n",
            " 9   Venue             48 non-null     object \n",
            " 10  H/A/N             48 non-null     object \n",
            " 11  Result            48 non-null     object \n",
            "dtypes: float64(1), int64(3), object(8)\n",
            "memory usage: 4.6+ KB\n"
          ]
        }
      ]
    },
    {
      "cell_type": "code",
      "source": [
        "df.columns"
      ],
      "metadata": {
        "colab": {
          "base_uri": "https://localhost:8080/"
        },
        "id": "yO5qmbGllS2f",
        "outputId": "080c88f1-c0d0-4e51-f2d4-3e8fb52f3e02"
      },
      "execution_count": 12,
      "outputs": [
        {
          "output_type": "execute_result",
          "data": {
            "text/plain": [
              "Index(['Score', 'Strike Rate', 'Type of Match', 'Position', 'Innings',\n",
              "       'Dismissed ', 'Man of the Match', 'Against', 'Venue', 'H/A/N',\n",
              "       'Result'],\n",
              "      dtype='object')"
            ]
          },
          "metadata": {},
          "execution_count": 12
        }
      ]
    },
    {
      "cell_type": "code",
      "source": [
        "df.describe()"
      ],
      "metadata": {
        "colab": {
          "base_uri": "https://localhost:8080/",
          "height": 300
        },
        "id": "NocBtx5JkwqW",
        "outputId": "22b67017-9944-4754-c10b-f655b093e534"
      },
      "execution_count": 9,
      "outputs": [
        {
          "output_type": "execute_result",
          "data": {
            "text/plain": [
              "            Score  Strike Rate   Position    Innings\n",
              "count   48.000000    48.000000  48.000000  48.000000\n",
              "mean   134.937500   109.656042   1.708333   1.541667\n",
              "std     34.744298    41.704401   1.320192   0.581939\n",
              "min    100.000000    50.560000   1.000000   1.000000\n",
              "25%    111.000000    85.197500   1.000000   1.000000\n",
              "50%    124.500000   105.710000   1.000000   1.500000\n",
              "75%    147.750000   121.100000   2.000000   2.000000\n",
              "max    264.000000   274.410000   6.000000   3.000000"
            ],
            "text/html": [
              "\n",
              "  <div id=\"df-370c955d-8f24-4d82-8dda-b6a953c9c1c2\" class=\"colab-df-container\">\n",
              "    <div>\n",
              "<style scoped>\n",
              "    .dataframe tbody tr th:only-of-type {\n",
              "        vertical-align: middle;\n",
              "    }\n",
              "\n",
              "    .dataframe tbody tr th {\n",
              "        vertical-align: top;\n",
              "    }\n",
              "\n",
              "    .dataframe thead th {\n",
              "        text-align: right;\n",
              "    }\n",
              "</style>\n",
              "<table border=\"1\" class=\"dataframe\">\n",
              "  <thead>\n",
              "    <tr style=\"text-align: right;\">\n",
              "      <th></th>\n",
              "      <th>Score</th>\n",
              "      <th>Strike Rate</th>\n",
              "      <th>Position</th>\n",
              "      <th>Innings</th>\n",
              "    </tr>\n",
              "  </thead>\n",
              "  <tbody>\n",
              "    <tr>\n",
              "      <th>count</th>\n",
              "      <td>48.000000</td>\n",
              "      <td>48.000000</td>\n",
              "      <td>48.000000</td>\n",
              "      <td>48.000000</td>\n",
              "    </tr>\n",
              "    <tr>\n",
              "      <th>mean</th>\n",
              "      <td>134.937500</td>\n",
              "      <td>109.656042</td>\n",
              "      <td>1.708333</td>\n",
              "      <td>1.541667</td>\n",
              "    </tr>\n",
              "    <tr>\n",
              "      <th>std</th>\n",
              "      <td>34.744298</td>\n",
              "      <td>41.704401</td>\n",
              "      <td>1.320192</td>\n",
              "      <td>0.581939</td>\n",
              "    </tr>\n",
              "    <tr>\n",
              "      <th>min</th>\n",
              "      <td>100.000000</td>\n",
              "      <td>50.560000</td>\n",
              "      <td>1.000000</td>\n",
              "      <td>1.000000</td>\n",
              "    </tr>\n",
              "    <tr>\n",
              "      <th>25%</th>\n",
              "      <td>111.000000</td>\n",
              "      <td>85.197500</td>\n",
              "      <td>1.000000</td>\n",
              "      <td>1.000000</td>\n",
              "    </tr>\n",
              "    <tr>\n",
              "      <th>50%</th>\n",
              "      <td>124.500000</td>\n",
              "      <td>105.710000</td>\n",
              "      <td>1.000000</td>\n",
              "      <td>1.500000</td>\n",
              "    </tr>\n",
              "    <tr>\n",
              "      <th>75%</th>\n",
              "      <td>147.750000</td>\n",
              "      <td>121.100000</td>\n",
              "      <td>2.000000</td>\n",
              "      <td>2.000000</td>\n",
              "    </tr>\n",
              "    <tr>\n",
              "      <th>max</th>\n",
              "      <td>264.000000</td>\n",
              "      <td>274.410000</td>\n",
              "      <td>6.000000</td>\n",
              "      <td>3.000000</td>\n",
              "    </tr>\n",
              "  </tbody>\n",
              "</table>\n",
              "</div>\n",
              "    <div class=\"colab-df-buttons\">\n",
              "\n",
              "  <div class=\"colab-df-container\">\n",
              "    <button class=\"colab-df-convert\" onclick=\"convertToInteractive('df-370c955d-8f24-4d82-8dda-b6a953c9c1c2')\"\n",
              "            title=\"Convert this dataframe to an interactive table.\"\n",
              "            style=\"display:none;\">\n",
              "\n",
              "  <svg xmlns=\"http://www.w3.org/2000/svg\" height=\"24px\" viewBox=\"0 -960 960 960\">\n",
              "    <path d=\"M120-120v-720h720v720H120Zm60-500h600v-160H180v160Zm220 220h160v-160H400v160Zm0 220h160v-160H400v160ZM180-400h160v-160H180v160Zm440 0h160v-160H620v160ZM180-180h160v-160H180v160Zm440 0h160v-160H620v160Z\"/>\n",
              "  </svg>\n",
              "    </button>\n",
              "\n",
              "  <style>\n",
              "    .colab-df-container {\n",
              "      display:flex;\n",
              "      gap: 12px;\n",
              "    }\n",
              "\n",
              "    .colab-df-convert {\n",
              "      background-color: #E8F0FE;\n",
              "      border: none;\n",
              "      border-radius: 50%;\n",
              "      cursor: pointer;\n",
              "      display: none;\n",
              "      fill: #1967D2;\n",
              "      height: 32px;\n",
              "      padding: 0 0 0 0;\n",
              "      width: 32px;\n",
              "    }\n",
              "\n",
              "    .colab-df-convert:hover {\n",
              "      background-color: #E2EBFA;\n",
              "      box-shadow: 0px 1px 2px rgba(60, 64, 67, 0.3), 0px 1px 3px 1px rgba(60, 64, 67, 0.15);\n",
              "      fill: #174EA6;\n",
              "    }\n",
              "\n",
              "    .colab-df-buttons div {\n",
              "      margin-bottom: 4px;\n",
              "    }\n",
              "\n",
              "    [theme=dark] .colab-df-convert {\n",
              "      background-color: #3B4455;\n",
              "      fill: #D2E3FC;\n",
              "    }\n",
              "\n",
              "    [theme=dark] .colab-df-convert:hover {\n",
              "      background-color: #434B5C;\n",
              "      box-shadow: 0px 1px 3px 1px rgba(0, 0, 0, 0.15);\n",
              "      filter: drop-shadow(0px 1px 2px rgba(0, 0, 0, 0.3));\n",
              "      fill: #FFFFFF;\n",
              "    }\n",
              "  </style>\n",
              "\n",
              "    <script>\n",
              "      const buttonEl =\n",
              "        document.querySelector('#df-370c955d-8f24-4d82-8dda-b6a953c9c1c2 button.colab-df-convert');\n",
              "      buttonEl.style.display =\n",
              "        google.colab.kernel.accessAllowed ? 'block' : 'none';\n",
              "\n",
              "      async function convertToInteractive(key) {\n",
              "        const element = document.querySelector('#df-370c955d-8f24-4d82-8dda-b6a953c9c1c2');\n",
              "        const dataTable =\n",
              "          await google.colab.kernel.invokeFunction('convertToInteractive',\n",
              "                                                    [key], {});\n",
              "        if (!dataTable) return;\n",
              "\n",
              "        const docLinkHtml = 'Like what you see? Visit the ' +\n",
              "          '<a target=\"_blank\" href=https://colab.research.google.com/notebooks/data_table.ipynb>data table notebook</a>'\n",
              "          + ' to learn more about interactive tables.';\n",
              "        element.innerHTML = '';\n",
              "        dataTable['output_type'] = 'display_data';\n",
              "        await google.colab.output.renderOutput(dataTable, element);\n",
              "        const docLink = document.createElement('div');\n",
              "        docLink.innerHTML = docLinkHtml;\n",
              "        element.appendChild(docLink);\n",
              "      }\n",
              "    </script>\n",
              "  </div>\n",
              "\n",
              "\n",
              "<div id=\"df-96972440-393f-4ec9-9bc4-6af4ddccf691\">\n",
              "  <button class=\"colab-df-quickchart\" onclick=\"quickchart('df-96972440-393f-4ec9-9bc4-6af4ddccf691')\"\n",
              "            title=\"Suggest charts\"\n",
              "            style=\"display:none;\">\n",
              "\n",
              "<svg xmlns=\"http://www.w3.org/2000/svg\" height=\"24px\"viewBox=\"0 0 24 24\"\n",
              "     width=\"24px\">\n",
              "    <g>\n",
              "        <path d=\"M19 3H5c-1.1 0-2 .9-2 2v14c0 1.1.9 2 2 2h14c1.1 0 2-.9 2-2V5c0-1.1-.9-2-2-2zM9 17H7v-7h2v7zm4 0h-2V7h2v10zm4 0h-2v-4h2v4z\"/>\n",
              "    </g>\n",
              "</svg>\n",
              "  </button>\n",
              "\n",
              "<style>\n",
              "  .colab-df-quickchart {\n",
              "      --bg-color: #E8F0FE;\n",
              "      --fill-color: #1967D2;\n",
              "      --hover-bg-color: #E2EBFA;\n",
              "      --hover-fill-color: #174EA6;\n",
              "      --disabled-fill-color: #AAA;\n",
              "      --disabled-bg-color: #DDD;\n",
              "  }\n",
              "\n",
              "  [theme=dark] .colab-df-quickchart {\n",
              "      --bg-color: #3B4455;\n",
              "      --fill-color: #D2E3FC;\n",
              "      --hover-bg-color: #434B5C;\n",
              "      --hover-fill-color: #FFFFFF;\n",
              "      --disabled-bg-color: #3B4455;\n",
              "      --disabled-fill-color: #666;\n",
              "  }\n",
              "\n",
              "  .colab-df-quickchart {\n",
              "    background-color: var(--bg-color);\n",
              "    border: none;\n",
              "    border-radius: 50%;\n",
              "    cursor: pointer;\n",
              "    display: none;\n",
              "    fill: var(--fill-color);\n",
              "    height: 32px;\n",
              "    padding: 0;\n",
              "    width: 32px;\n",
              "  }\n",
              "\n",
              "  .colab-df-quickchart:hover {\n",
              "    background-color: var(--hover-bg-color);\n",
              "    box-shadow: 0 1px 2px rgba(60, 64, 67, 0.3), 0 1px 3px 1px rgba(60, 64, 67, 0.15);\n",
              "    fill: var(--button-hover-fill-color);\n",
              "  }\n",
              "\n",
              "  .colab-df-quickchart-complete:disabled,\n",
              "  .colab-df-quickchart-complete:disabled:hover {\n",
              "    background-color: var(--disabled-bg-color);\n",
              "    fill: var(--disabled-fill-color);\n",
              "    box-shadow: none;\n",
              "  }\n",
              "\n",
              "  .colab-df-spinner {\n",
              "    border: 2px solid var(--fill-color);\n",
              "    border-color: transparent;\n",
              "    border-bottom-color: var(--fill-color);\n",
              "    animation:\n",
              "      spin 1s steps(1) infinite;\n",
              "  }\n",
              "\n",
              "  @keyframes spin {\n",
              "    0% {\n",
              "      border-color: transparent;\n",
              "      border-bottom-color: var(--fill-color);\n",
              "      border-left-color: var(--fill-color);\n",
              "    }\n",
              "    20% {\n",
              "      border-color: transparent;\n",
              "      border-left-color: var(--fill-color);\n",
              "      border-top-color: var(--fill-color);\n",
              "    }\n",
              "    30% {\n",
              "      border-color: transparent;\n",
              "      border-left-color: var(--fill-color);\n",
              "      border-top-color: var(--fill-color);\n",
              "      border-right-color: var(--fill-color);\n",
              "    }\n",
              "    40% {\n",
              "      border-color: transparent;\n",
              "      border-right-color: var(--fill-color);\n",
              "      border-top-color: var(--fill-color);\n",
              "    }\n",
              "    60% {\n",
              "      border-color: transparent;\n",
              "      border-right-color: var(--fill-color);\n",
              "    }\n",
              "    80% {\n",
              "      border-color: transparent;\n",
              "      border-right-color: var(--fill-color);\n",
              "      border-bottom-color: var(--fill-color);\n",
              "    }\n",
              "    90% {\n",
              "      border-color: transparent;\n",
              "      border-bottom-color: var(--fill-color);\n",
              "    }\n",
              "  }\n",
              "</style>\n",
              "\n",
              "  <script>\n",
              "    async function quickchart(key) {\n",
              "      const quickchartButtonEl =\n",
              "        document.querySelector('#' + key + ' button');\n",
              "      quickchartButtonEl.disabled = true;  // To prevent multiple clicks.\n",
              "      quickchartButtonEl.classList.add('colab-df-spinner');\n",
              "      try {\n",
              "        const charts = await google.colab.kernel.invokeFunction(\n",
              "            'suggestCharts', [key], {});\n",
              "      } catch (error) {\n",
              "        console.error('Error during call to suggestCharts:', error);\n",
              "      }\n",
              "      quickchartButtonEl.classList.remove('colab-df-spinner');\n",
              "      quickchartButtonEl.classList.add('colab-df-quickchart-complete');\n",
              "    }\n",
              "    (() => {\n",
              "      let quickchartButtonEl =\n",
              "        document.querySelector('#df-96972440-393f-4ec9-9bc4-6af4ddccf691 button');\n",
              "      quickchartButtonEl.style.display =\n",
              "        google.colab.kernel.accessAllowed ? 'block' : 'none';\n",
              "    })();\n",
              "  </script>\n",
              "</div>\n",
              "\n",
              "    </div>\n",
              "  </div>\n"
            ],
            "application/vnd.google.colaboratory.intrinsic+json": {
              "type": "dataframe",
              "summary": "{\n  \"name\": \"df\",\n  \"rows\": 8,\n  \"fields\": [\n    {\n      \"column\": \"Score\",\n      \"properties\": {\n        \"dtype\": \"number\",\n        \"std\": 70.38662195385359,\n        \"min\": 34.74429771062088,\n        \"max\": 264.0,\n        \"num_unique_values\": 8,\n        \"samples\": [\n          134.9375,\n          124.5,\n          48.0\n        ],\n        \"semantic_type\": \"\",\n        \"description\": \"\"\n      }\n    },\n    {\n      \"column\": \"Strike Rate\",\n      \"properties\": {\n        \"dtype\": \"number\",\n        \"std\": 75.20510059504188,\n        \"min\": 41.704400693328715,\n        \"max\": 274.41,\n        \"num_unique_values\": 8,\n        \"samples\": [\n          109.65604166666667,\n          105.71000000000001,\n          48.0\n        ],\n        \"semantic_type\": \"\",\n        \"description\": \"\"\n      }\n    },\n    {\n      \"column\": \"Position\",\n      \"properties\": {\n        \"dtype\": \"number\",\n        \"std\": 16.347647541578137,\n        \"min\": 1.0,\n        \"max\": 48.0,\n        \"num_unique_values\": 6,\n        \"samples\": [\n          48.0,\n          1.7083333333333333,\n          6.0\n        ],\n        \"semantic_type\": \"\",\n        \"description\": \"\"\n      }\n    },\n    {\n      \"column\": \"Innings\",\n      \"properties\": {\n        \"dtype\": \"number\",\n        \"std\": 16.450681715961906,\n        \"min\": 0.5819385554072728,\n        \"max\": 48.0,\n        \"num_unique_values\": 7,\n        \"samples\": [\n          48.0,\n          1.5416666666666667,\n          2.0\n        ],\n        \"semantic_type\": \"\",\n        \"description\": \"\"\n      }\n    }\n  ]\n}"
            }
          },
          "metadata": {},
          "execution_count": 9
        }
      ]
    },
    {
      "cell_type": "code",
      "source": [
        "df['Type of Match'].value_counts()"
      ],
      "metadata": {
        "colab": {
          "base_uri": "https://localhost:8080/"
        },
        "id": "4yrsz8HgleOW",
        "outputId": "a55dc2eb-dce8-4030-d58c-f919a4d31d20"
      },
      "execution_count": 15,
      "outputs": [
        {
          "output_type": "execute_result",
          "data": {
            "text/plain": [
              "Type of Match\n",
              "ODI     31\n",
              "Test    12\n",
              "T20      5\n",
              "Name: count, dtype: int64"
            ]
          },
          "metadata": {},
          "execution_count": 15
        }
      ]
    },
    {
      "cell_type": "code",
      "source": [
        "df.drop('Captain',axis=1,inplace=True)"
      ],
      "metadata": {
        "id": "1ABmyfRakxk8"
      },
      "execution_count": 10,
      "outputs": []
    },
    {
      "cell_type": "code",
      "source": [
        "df['Dismissed '].value_counts()"
      ],
      "metadata": {
        "colab": {
          "base_uri": "https://localhost:8080/"
        },
        "id": "y976_yxTk8jD",
        "outputId": "e2713245-c8eb-46bc-bb92-f312f170e985"
      },
      "execution_count": 13,
      "outputs": [
        {
          "output_type": "execute_result",
          "data": {
            "text/plain": [
              "Dismissed \n",
              "Yes    33\n",
              "No     15\n",
              "Name: count, dtype: int64"
            ]
          },
          "metadata": {},
          "execution_count": 13
        }
      ]
    },
    {
      "cell_type": "code",
      "source": [
        "df.shape"
      ],
      "metadata": {
        "colab": {
          "base_uri": "https://localhost:8080/"
        },
        "id": "UkkXz6DilQAX",
        "outputId": "fe8d978a-4abd-4110-dbf5-4052cf750943"
      },
      "execution_count": 14,
      "outputs": [
        {
          "output_type": "execute_result",
          "data": {
            "text/plain": [
              "(48, 11)"
            ]
          },
          "metadata": {},
          "execution_count": 14
        }
      ]
    },
    {
      "cell_type": "markdown",
      "source": [
        "# **T20 Analysis**"
      ],
      "metadata": {
        "id": "9Wf4a5q3lwIW"
      }
    },
    {
      "cell_type": "code",
      "source": [
        "X=df[df['Type of Match']=='T20']"
      ],
      "metadata": {
        "id": "5F6aM_e3lXDg"
      },
      "execution_count": 17,
      "outputs": []
    },
    {
      "cell_type": "code",
      "source": [
        "X.head()"
      ],
      "metadata": {
        "colab": {
          "base_uri": "https://localhost:8080/",
          "height": 206
        },
        "id": "szvdTtmmltGE",
        "outputId": "72ab4158-a431-4300-b3cd-edafa0cf0928"
      },
      "execution_count": 18,
      "outputs": [
        {
          "output_type": "execute_result",
          "data": {
            "text/plain": [
              "    Score  Strike Rate Type of Match  Position  Innings Dismissed   \\\n",
              "43    106       160.60           T20         1        1        Yes   \n",
              "44    118       274.41           T20         1        1        Yes   \n",
              "45    100       178.57           T20         1        2         No   \n",
              "46    111       181.96           T20         1        1         No   \n",
              "47    121       175.36           T20         2        1         No   \n",
              "\n",
              "   Man of the Match       Against                              Venue H/A/N  \\\n",
              "43               No  South Africa          HPCA Stadium, Dharamshala  Home   \n",
              "44              Yes     Sri Lanka     Holkar Cricket Stadium, Indore  Home   \n",
              "45              Yes       England     Bristol County Ground, Bristol  Away   \n",
              "46              Yes   West Indies             Ekana Stadium, Lucknow  Home   \n",
              "47              Yes   Afghanistan  M. Chinnaswamy Stadium, Bangalore  Home   \n",
              "\n",
              "   Result  \n",
              "43   Lost  \n",
              "44    Won  \n",
              "45    Won  \n",
              "46    Won  \n",
              "47    Won  "
            ],
            "text/html": [
              "\n",
              "  <div id=\"df-7969e99a-65b0-4ebd-bb7d-aa747daf5add\" class=\"colab-df-container\">\n",
              "    <div>\n",
              "<style scoped>\n",
              "    .dataframe tbody tr th:only-of-type {\n",
              "        vertical-align: middle;\n",
              "    }\n",
              "\n",
              "    .dataframe tbody tr th {\n",
              "        vertical-align: top;\n",
              "    }\n",
              "\n",
              "    .dataframe thead th {\n",
              "        text-align: right;\n",
              "    }\n",
              "</style>\n",
              "<table border=\"1\" class=\"dataframe\">\n",
              "  <thead>\n",
              "    <tr style=\"text-align: right;\">\n",
              "      <th></th>\n",
              "      <th>Score</th>\n",
              "      <th>Strike Rate</th>\n",
              "      <th>Type of Match</th>\n",
              "      <th>Position</th>\n",
              "      <th>Innings</th>\n",
              "      <th>Dismissed</th>\n",
              "      <th>Man of the Match</th>\n",
              "      <th>Against</th>\n",
              "      <th>Venue</th>\n",
              "      <th>H/A/N</th>\n",
              "      <th>Result</th>\n",
              "    </tr>\n",
              "  </thead>\n",
              "  <tbody>\n",
              "    <tr>\n",
              "      <th>43</th>\n",
              "      <td>106</td>\n",
              "      <td>160.60</td>\n",
              "      <td>T20</td>\n",
              "      <td>1</td>\n",
              "      <td>1</td>\n",
              "      <td>Yes</td>\n",
              "      <td>No</td>\n",
              "      <td>South Africa</td>\n",
              "      <td>HPCA Stadium, Dharamshala</td>\n",
              "      <td>Home</td>\n",
              "      <td>Lost</td>\n",
              "    </tr>\n",
              "    <tr>\n",
              "      <th>44</th>\n",
              "      <td>118</td>\n",
              "      <td>274.41</td>\n",
              "      <td>T20</td>\n",
              "      <td>1</td>\n",
              "      <td>1</td>\n",
              "      <td>Yes</td>\n",
              "      <td>Yes</td>\n",
              "      <td>Sri Lanka</td>\n",
              "      <td>Holkar Cricket Stadium, Indore</td>\n",
              "      <td>Home</td>\n",
              "      <td>Won</td>\n",
              "    </tr>\n",
              "    <tr>\n",
              "      <th>45</th>\n",
              "      <td>100</td>\n",
              "      <td>178.57</td>\n",
              "      <td>T20</td>\n",
              "      <td>1</td>\n",
              "      <td>2</td>\n",
              "      <td>No</td>\n",
              "      <td>Yes</td>\n",
              "      <td>England</td>\n",
              "      <td>Bristol County Ground, Bristol</td>\n",
              "      <td>Away</td>\n",
              "      <td>Won</td>\n",
              "    </tr>\n",
              "    <tr>\n",
              "      <th>46</th>\n",
              "      <td>111</td>\n",
              "      <td>181.96</td>\n",
              "      <td>T20</td>\n",
              "      <td>1</td>\n",
              "      <td>1</td>\n",
              "      <td>No</td>\n",
              "      <td>Yes</td>\n",
              "      <td>West Indies</td>\n",
              "      <td>Ekana Stadium, Lucknow</td>\n",
              "      <td>Home</td>\n",
              "      <td>Won</td>\n",
              "    </tr>\n",
              "    <tr>\n",
              "      <th>47</th>\n",
              "      <td>121</td>\n",
              "      <td>175.36</td>\n",
              "      <td>T20</td>\n",
              "      <td>2</td>\n",
              "      <td>1</td>\n",
              "      <td>No</td>\n",
              "      <td>Yes</td>\n",
              "      <td>Afghanistan</td>\n",
              "      <td>M. Chinnaswamy Stadium, Bangalore</td>\n",
              "      <td>Home</td>\n",
              "      <td>Won</td>\n",
              "    </tr>\n",
              "  </tbody>\n",
              "</table>\n",
              "</div>\n",
              "    <div class=\"colab-df-buttons\">\n",
              "\n",
              "  <div class=\"colab-df-container\">\n",
              "    <button class=\"colab-df-convert\" onclick=\"convertToInteractive('df-7969e99a-65b0-4ebd-bb7d-aa747daf5add')\"\n",
              "            title=\"Convert this dataframe to an interactive table.\"\n",
              "            style=\"display:none;\">\n",
              "\n",
              "  <svg xmlns=\"http://www.w3.org/2000/svg\" height=\"24px\" viewBox=\"0 -960 960 960\">\n",
              "    <path d=\"M120-120v-720h720v720H120Zm60-500h600v-160H180v160Zm220 220h160v-160H400v160Zm0 220h160v-160H400v160ZM180-400h160v-160H180v160Zm440 0h160v-160H620v160ZM180-180h160v-160H180v160Zm440 0h160v-160H620v160Z\"/>\n",
              "  </svg>\n",
              "    </button>\n",
              "\n",
              "  <style>\n",
              "    .colab-df-container {\n",
              "      display:flex;\n",
              "      gap: 12px;\n",
              "    }\n",
              "\n",
              "    .colab-df-convert {\n",
              "      background-color: #E8F0FE;\n",
              "      border: none;\n",
              "      border-radius: 50%;\n",
              "      cursor: pointer;\n",
              "      display: none;\n",
              "      fill: #1967D2;\n",
              "      height: 32px;\n",
              "      padding: 0 0 0 0;\n",
              "      width: 32px;\n",
              "    }\n",
              "\n",
              "    .colab-df-convert:hover {\n",
              "      background-color: #E2EBFA;\n",
              "      box-shadow: 0px 1px 2px rgba(60, 64, 67, 0.3), 0px 1px 3px 1px rgba(60, 64, 67, 0.15);\n",
              "      fill: #174EA6;\n",
              "    }\n",
              "\n",
              "    .colab-df-buttons div {\n",
              "      margin-bottom: 4px;\n",
              "    }\n",
              "\n",
              "    [theme=dark] .colab-df-convert {\n",
              "      background-color: #3B4455;\n",
              "      fill: #D2E3FC;\n",
              "    }\n",
              "\n",
              "    [theme=dark] .colab-df-convert:hover {\n",
              "      background-color: #434B5C;\n",
              "      box-shadow: 0px 1px 3px 1px rgba(0, 0, 0, 0.15);\n",
              "      filter: drop-shadow(0px 1px 2px rgba(0, 0, 0, 0.3));\n",
              "      fill: #FFFFFF;\n",
              "    }\n",
              "  </style>\n",
              "\n",
              "    <script>\n",
              "      const buttonEl =\n",
              "        document.querySelector('#df-7969e99a-65b0-4ebd-bb7d-aa747daf5add button.colab-df-convert');\n",
              "      buttonEl.style.display =\n",
              "        google.colab.kernel.accessAllowed ? 'block' : 'none';\n",
              "\n",
              "      async function convertToInteractive(key) {\n",
              "        const element = document.querySelector('#df-7969e99a-65b0-4ebd-bb7d-aa747daf5add');\n",
              "        const dataTable =\n",
              "          await google.colab.kernel.invokeFunction('convertToInteractive',\n",
              "                                                    [key], {});\n",
              "        if (!dataTable) return;\n",
              "\n",
              "        const docLinkHtml = 'Like what you see? Visit the ' +\n",
              "          '<a target=\"_blank\" href=https://colab.research.google.com/notebooks/data_table.ipynb>data table notebook</a>'\n",
              "          + ' to learn more about interactive tables.';\n",
              "        element.innerHTML = '';\n",
              "        dataTable['output_type'] = 'display_data';\n",
              "        await google.colab.output.renderOutput(dataTable, element);\n",
              "        const docLink = document.createElement('div');\n",
              "        docLink.innerHTML = docLinkHtml;\n",
              "        element.appendChild(docLink);\n",
              "      }\n",
              "    </script>\n",
              "  </div>\n",
              "\n",
              "\n",
              "<div id=\"df-6ca8a448-8f69-435b-9437-36f171e7c144\">\n",
              "  <button class=\"colab-df-quickchart\" onclick=\"quickchart('df-6ca8a448-8f69-435b-9437-36f171e7c144')\"\n",
              "            title=\"Suggest charts\"\n",
              "            style=\"display:none;\">\n",
              "\n",
              "<svg xmlns=\"http://www.w3.org/2000/svg\" height=\"24px\"viewBox=\"0 0 24 24\"\n",
              "     width=\"24px\">\n",
              "    <g>\n",
              "        <path d=\"M19 3H5c-1.1 0-2 .9-2 2v14c0 1.1.9 2 2 2h14c1.1 0 2-.9 2-2V5c0-1.1-.9-2-2-2zM9 17H7v-7h2v7zm4 0h-2V7h2v10zm4 0h-2v-4h2v4z\"/>\n",
              "    </g>\n",
              "</svg>\n",
              "  </button>\n",
              "\n",
              "<style>\n",
              "  .colab-df-quickchart {\n",
              "      --bg-color: #E8F0FE;\n",
              "      --fill-color: #1967D2;\n",
              "      --hover-bg-color: #E2EBFA;\n",
              "      --hover-fill-color: #174EA6;\n",
              "      --disabled-fill-color: #AAA;\n",
              "      --disabled-bg-color: #DDD;\n",
              "  }\n",
              "\n",
              "  [theme=dark] .colab-df-quickchart {\n",
              "      --bg-color: #3B4455;\n",
              "      --fill-color: #D2E3FC;\n",
              "      --hover-bg-color: #434B5C;\n",
              "      --hover-fill-color: #FFFFFF;\n",
              "      --disabled-bg-color: #3B4455;\n",
              "      --disabled-fill-color: #666;\n",
              "  }\n",
              "\n",
              "  .colab-df-quickchart {\n",
              "    background-color: var(--bg-color);\n",
              "    border: none;\n",
              "    border-radius: 50%;\n",
              "    cursor: pointer;\n",
              "    display: none;\n",
              "    fill: var(--fill-color);\n",
              "    height: 32px;\n",
              "    padding: 0;\n",
              "    width: 32px;\n",
              "  }\n",
              "\n",
              "  .colab-df-quickchart:hover {\n",
              "    background-color: var(--hover-bg-color);\n",
              "    box-shadow: 0 1px 2px rgba(60, 64, 67, 0.3), 0 1px 3px 1px rgba(60, 64, 67, 0.15);\n",
              "    fill: var(--button-hover-fill-color);\n",
              "  }\n",
              "\n",
              "  .colab-df-quickchart-complete:disabled,\n",
              "  .colab-df-quickchart-complete:disabled:hover {\n",
              "    background-color: var(--disabled-bg-color);\n",
              "    fill: var(--disabled-fill-color);\n",
              "    box-shadow: none;\n",
              "  }\n",
              "\n",
              "  .colab-df-spinner {\n",
              "    border: 2px solid var(--fill-color);\n",
              "    border-color: transparent;\n",
              "    border-bottom-color: var(--fill-color);\n",
              "    animation:\n",
              "      spin 1s steps(1) infinite;\n",
              "  }\n",
              "\n",
              "  @keyframes spin {\n",
              "    0% {\n",
              "      border-color: transparent;\n",
              "      border-bottom-color: var(--fill-color);\n",
              "      border-left-color: var(--fill-color);\n",
              "    }\n",
              "    20% {\n",
              "      border-color: transparent;\n",
              "      border-left-color: var(--fill-color);\n",
              "      border-top-color: var(--fill-color);\n",
              "    }\n",
              "    30% {\n",
              "      border-color: transparent;\n",
              "      border-left-color: var(--fill-color);\n",
              "      border-top-color: var(--fill-color);\n",
              "      border-right-color: var(--fill-color);\n",
              "    }\n",
              "    40% {\n",
              "      border-color: transparent;\n",
              "      border-right-color: var(--fill-color);\n",
              "      border-top-color: var(--fill-color);\n",
              "    }\n",
              "    60% {\n",
              "      border-color: transparent;\n",
              "      border-right-color: var(--fill-color);\n",
              "    }\n",
              "    80% {\n",
              "      border-color: transparent;\n",
              "      border-right-color: var(--fill-color);\n",
              "      border-bottom-color: var(--fill-color);\n",
              "    }\n",
              "    90% {\n",
              "      border-color: transparent;\n",
              "      border-bottom-color: var(--fill-color);\n",
              "    }\n",
              "  }\n",
              "</style>\n",
              "\n",
              "  <script>\n",
              "    async function quickchart(key) {\n",
              "      const quickchartButtonEl =\n",
              "        document.querySelector('#' + key + ' button');\n",
              "      quickchartButtonEl.disabled = true;  // To prevent multiple clicks.\n",
              "      quickchartButtonEl.classList.add('colab-df-spinner');\n",
              "      try {\n",
              "        const charts = await google.colab.kernel.invokeFunction(\n",
              "            'suggestCharts', [key], {});\n",
              "      } catch (error) {\n",
              "        console.error('Error during call to suggestCharts:', error);\n",
              "      }\n",
              "      quickchartButtonEl.classList.remove('colab-df-spinner');\n",
              "      quickchartButtonEl.classList.add('colab-df-quickchart-complete');\n",
              "    }\n",
              "    (() => {\n",
              "      let quickchartButtonEl =\n",
              "        document.querySelector('#df-6ca8a448-8f69-435b-9437-36f171e7c144 button');\n",
              "      quickchartButtonEl.style.display =\n",
              "        google.colab.kernel.accessAllowed ? 'block' : 'none';\n",
              "    })();\n",
              "  </script>\n",
              "</div>\n",
              "\n",
              "    </div>\n",
              "  </div>\n"
            ],
            "application/vnd.google.colaboratory.intrinsic+json": {
              "type": "dataframe",
              "variable_name": "X",
              "summary": "{\n  \"name\": \"X\",\n  \"rows\": 5,\n  \"fields\": [\n    {\n      \"column\": \"Score\",\n      \"properties\": {\n        \"dtype\": \"number\",\n        \"std\": 8,\n        \"min\": 100,\n        \"max\": 121,\n        \"num_unique_values\": 5,\n        \"samples\": [\n          118,\n          121,\n          100\n        ],\n        \"semantic_type\": \"\",\n        \"description\": \"\"\n      }\n    },\n    {\n      \"column\": \"Strike Rate\",\n      \"properties\": {\n        \"dtype\": \"number\",\n        \"std\": 45.58415898094426,\n        \"min\": 160.6,\n        \"max\": 274.41,\n        \"num_unique_values\": 5,\n        \"samples\": [\n          274.41,\n          175.36,\n          178.57\n        ],\n        \"semantic_type\": \"\",\n        \"description\": \"\"\n      }\n    },\n    {\n      \"column\": \"Type of Match\",\n      \"properties\": {\n        \"dtype\": \"category\",\n        \"num_unique_values\": 1,\n        \"samples\": [\n          \"T20\"\n        ],\n        \"semantic_type\": \"\",\n        \"description\": \"\"\n      }\n    },\n    {\n      \"column\": \"Position\",\n      \"properties\": {\n        \"dtype\": \"number\",\n        \"std\": 0,\n        \"min\": 1,\n        \"max\": 2,\n        \"num_unique_values\": 2,\n        \"samples\": [\n          2\n        ],\n        \"semantic_type\": \"\",\n        \"description\": \"\"\n      }\n    },\n    {\n      \"column\": \"Innings\",\n      \"properties\": {\n        \"dtype\": \"number\",\n        \"std\": 0,\n        \"min\": 1,\n        \"max\": 2,\n        \"num_unique_values\": 2,\n        \"samples\": [\n          2\n        ],\n        \"semantic_type\": \"\",\n        \"description\": \"\"\n      }\n    },\n    {\n      \"column\": \"Dismissed \",\n      \"properties\": {\n        \"dtype\": \"category\",\n        \"num_unique_values\": 2,\n        \"samples\": [\n          \"No\"\n        ],\n        \"semantic_type\": \"\",\n        \"description\": \"\"\n      }\n    },\n    {\n      \"column\": \"Man of the Match\",\n      \"properties\": {\n        \"dtype\": \"category\",\n        \"num_unique_values\": 2,\n        \"samples\": [\n          \"Yes\"\n        ],\n        \"semantic_type\": \"\",\n        \"description\": \"\"\n      }\n    },\n    {\n      \"column\": \"Against\",\n      \"properties\": {\n        \"dtype\": \"string\",\n        \"num_unique_values\": 5,\n        \"samples\": [\n          \"Sri Lanka\"\n        ],\n        \"semantic_type\": \"\",\n        \"description\": \"\"\n      }\n    },\n    {\n      \"column\": \"Venue\",\n      \"properties\": {\n        \"dtype\": \"string\",\n        \"num_unique_values\": 5,\n        \"samples\": [\n          \"Holkar Cricket Stadium, Indore\"\n        ],\n        \"semantic_type\": \"\",\n        \"description\": \"\"\n      }\n    },\n    {\n      \"column\": \"H/A/N\",\n      \"properties\": {\n        \"dtype\": \"category\",\n        \"num_unique_values\": 2,\n        \"samples\": [\n          \"Away\"\n        ],\n        \"semantic_type\": \"\",\n        \"description\": \"\"\n      }\n    },\n    {\n      \"column\": \"Result\",\n      \"properties\": {\n        \"dtype\": \"category\",\n        \"num_unique_values\": 2,\n        \"samples\": [\n          \"Won\"\n        ],\n        \"semantic_type\": \"\",\n        \"description\": \"\"\n      }\n    }\n  ]\n}"
            }
          },
          "metadata": {},
          "execution_count": 18
        }
      ]
    },
    {
      "cell_type": "markdown",
      "source": [
        "# Rohit Sharma's Average Strike Rate"
      ],
      "metadata": {
        "id": "mxtm-dvsmzxe"
      }
    },
    {
      "cell_type": "code",
      "source": [
        "X['Strike Rate'].sum()/X['Innings'].sum()"
      ],
      "metadata": {
        "colab": {
          "base_uri": "https://localhost:8080/"
        },
        "id": "dibfPBR8l4PI",
        "outputId": "ea540505-cb60-4aa5-fa9a-9ba986b137c6"
      },
      "execution_count": 26,
      "outputs": [
        {
          "output_type": "execute_result",
          "data": {
            "text/plain": [
              "161.81666666666666"
            ]
          },
          "metadata": {},
          "execution_count": 26
        }
      ]
    },
    {
      "cell_type": "markdown",
      "source": [
        "# Rohit Sharma's Average in his only 5 t20is"
      ],
      "metadata": {
        "id": "buQfsW4wmfdJ"
      }
    },
    {
      "cell_type": "code",
      "source": [
        "(X['Score'].sum())/X['Innings'].sum()"
      ],
      "metadata": {
        "colab": {
          "base_uri": "https://localhost:8080/"
        },
        "id": "8Lm8VEHYl8Fe",
        "outputId": "77dc0a0e-403e-406f-e338-f62b5032b177"
      },
      "execution_count": 24,
      "outputs": [
        {
          "output_type": "execute_result",
          "data": {
            "text/plain": [
              "92.66666666666667"
            ]
          },
          "metadata": {},
          "execution_count": 24
        }
      ]
    },
    {
      "cell_type": "code",
      "source": [
        "X['Innings'].sum()"
      ],
      "metadata": {
        "colab": {
          "base_uri": "https://localhost:8080/"
        },
        "id": "e8Apvn26mAh0",
        "outputId": "96bd1bec-87f6-4ec3-f87d-1b17a4ce6dfe"
      },
      "execution_count": 23,
      "outputs": [
        {
          "output_type": "execute_result",
          "data": {
            "text/plain": [
              "6"
            ]
          },
          "metadata": {},
          "execution_count": 23
        }
      ]
    },
    {
      "cell_type": "markdown",
      "source": [
        "Rohit's Average w.r.t position"
      ],
      "metadata": {
        "id": "W9hxyemdnJ6x"
      }
    },
    {
      "cell_type": "code",
      "source": [
        "X.groupby('Position')['Score'].mean()"
      ],
      "metadata": {
        "colab": {
          "base_uri": "https://localhost:8080/"
        },
        "id": "lOnrPYYEmYAR",
        "outputId": "a6915fa2-62a4-40f3-8b6c-4076dc815d50"
      },
      "execution_count": 27,
      "outputs": [
        {
          "output_type": "execute_result",
          "data": {
            "text/plain": [
              "Position\n",
              "1    108.75\n",
              "2    121.00\n",
              "Name: Score, dtype: float64"
            ]
          },
          "metadata": {},
          "execution_count": 27
        }
      ]
    },
    {
      "cell_type": "code",
      "source": [
        "sns.histplot(x='Result',hue='Man of the Match',data=X,multiple='stack')"
      ],
      "metadata": {
        "colab": {
          "base_uri": "https://localhost:8080/",
          "height": 466
        },
        "id": "lMvBvRApnIKr",
        "outputId": "7d96766f-67a4-4d94-f990-d74e2ede9af3"
      },
      "execution_count": 29,
      "outputs": [
        {
          "output_type": "execute_result",
          "data": {
            "text/plain": [
              "<Axes: xlabel='Result', ylabel='Count'>"
            ]
          },
          "metadata": {},
          "execution_count": 29
        },
        {
          "output_type": "display_data",
          "data": {
            "text/plain": [
              "<Figure size 640x480 with 1 Axes>"
            ],
            "image/png": "[encoded data removed]"
          },
          "metadata": {}
        }
      ]
    },
    {
      "cell_type": "markdown",
      "source": [
        "# Rohit's Average w.r.t H/A/N"
      ],
      "metadata": {
        "id": "OO1JTaIin01K"
      }
    },
    {
      "cell_type": "code",
      "source": [
        "X.groupby('H/A/N')['Score'].mean()"
      ],
      "metadata": {
        "colab": {
          "base_uri": "https://localhost:8080/"
        },
        "id": "NPzLPEPgngN-",
        "outputId": "c1b0b0da-8b73-4984-c37f-838931aa93b6"
      },
      "execution_count": 31,
      "outputs": [
        {
          "output_type": "execute_result",
          "data": {
            "text/plain": [
              "H/A/N\n",
              "Away    100.0\n",
              "Home    114.0\n",
              "Name: Score, dtype: float64"
            ]
          },
          "metadata": {},
          "execution_count": 31
        }
      ]
    },
    {
      "cell_type": "markdown",
      "source": [
        "# Rohits's Average w.r.t Result- determines INDIA'S Win percentage"
      ],
      "metadata": {
        "id": "I5-Wih7HoAL6"
      }
    },
    {
      "cell_type": "code",
      "source": [
        "X.groupby('Result')['Score'].mean()"
      ],
      "metadata": {
        "colab": {
          "base_uri": "https://localhost:8080/"
        },
        "id": "UWuUk2nfnwU7",
        "outputId": "3113351e-fa1c-4b1b-b5e9-3b241ef3aea3"
      },
      "execution_count": 32,
      "outputs": [
        {
          "output_type": "execute_result",
          "data": {
            "text/plain": [
              "Result\n",
              "Lost    106.0\n",
              "Won     112.5\n",
              "Name: Score, dtype: float64"
            ]
          },
          "metadata": {},
          "execution_count": 32
        }
      ]
    },
    {
      "cell_type": "code",
      "source": [
        "X['Balls_faced']=(X['Score']*100)/X['Strike Rate']"
      ],
      "metadata": {
        "id": "DaP_Bgg1n_EO"
      },
      "execution_count": 33,
      "outputs": []
    },
    {
      "cell_type": "code",
      "source": [
        "X.head()"
      ],
      "metadata": {
        "colab": {
          "base_uri": "https://localhost:8080/",
          "height": 258
        },
        "id": "3WlU9ubro_lc",
        "outputId": "5f5da8cb-3b5e-41d4-f80c-ef1cc1280209"
      },
      "execution_count": 39,
      "outputs": [
        {
          "output_type": "execute_result",
          "data": {
            "text/plain": [
              "    Score  Strike Rate Type of Match  Position  Innings Dismissed   \\\n",
              "43    106       160.60           T20         1        1        Yes   \n",
              "44    118       274.41           T20         1        1        Yes   \n",
              "45    100       178.57           T20         1        2         No   \n",
              "46    111       181.96           T20         1        1         No   \n",
              "47    121       175.36           T20         2        1         No   \n",
              "\n",
              "   Man of the Match       Against                              Venue H/A/N  \\\n",
              "43               No  South Africa          HPCA Stadium, Dharamshala  Home   \n",
              "44              Yes     Sri Lanka     Holkar Cricket Stadium, Indore  Home   \n",
              "45              Yes       England     Bristol County Ground, Bristol  Away   \n",
              "46              Yes   West Indies             Ekana Stadium, Lucknow  Home   \n",
              "47              Yes   Afghanistan  M. Chinnaswamy Stadium, Bangalore  Home   \n",
              "\n",
              "   Result  Balls_faced  \n",
              "43   Lost         66.0  \n",
              "44    Won         43.0  \n",
              "45    Won         56.0  \n",
              "46    Won         61.0  \n",
              "47    Won         69.0  "
            ],
            "text/html": [
              "\n",
              "  <div id=\"df-a729d5bf-a340-4452-9e8b-bf509d06ba6a\" class=\"colab-df-container\">\n",
              "    <div>\n",
              "<style scoped>\n",
              "    .dataframe tbody tr th:only-of-type {\n",
              "        vertical-align: middle;\n",
              "    }\n",
              "\n",
              "    .dataframe tbody tr th {\n",
              "        vertical-align: top;\n",
              "    }\n",
              "\n",
              "    .dataframe thead th {\n",
              "        text-align: right;\n",
              "    }\n",
              "</style>\n",
              "<table border=\"1\" class=\"dataframe\">\n",
              "  <thead>\n",
              "    <tr style=\"text-align: right;\">\n",
              "      <th></th>\n",
              "      <th>Score</th>\n",
              "      <th>Strike Rate</th>\n",
              "      <th>Type of Match</th>\n",
              "      <th>Position</th>\n",
              "      <th>Innings</th>\n",
              "      <th>Dismissed</th>\n",
              "      <th>Man of the Match</th>\n",
              "      <th>Against</th>\n",
              "      <th>Venue</th>\n",
              "      <th>H/A/N</th>\n",
              "      <th>Result</th>\n",
              "      <th>Balls_faced</th>\n",
              "    </tr>\n",
              "  </thead>\n",
              "  <tbody>\n",
              "    <tr>\n",
              "      <th>43</th>\n",
              "      <td>106</td>\n",
              "      <td>160.60</td>\n",
              "      <td>T20</td>\n",
              "      <td>1</td>\n",
              "      <td>1</td>\n",
              "      <td>Yes</td>\n",
              "      <td>No</td>\n",
              "      <td>South Africa</td>\n",
              "      <td>HPCA Stadium, Dharamshala</td>\n",
              "      <td>Home</td>\n",
              "      <td>Lost</td>\n",
              "      <td>66.0</td>\n",
              "    </tr>\n",
              "    <tr>\n",
              "      <th>44</th>\n",
              "      <td>118</td>\n",
              "      <td>274.41</td>\n",
              "      <td>T20</td>\n",
              "      <td>1</td>\n",
              "      <td>1</td>\n",
              "      <td>Yes</td>\n",
              "      <td>Yes</td>\n",
              "      <td>Sri Lanka</td>\n",
              "      <td>Holkar Cricket Stadium, Indore</td>\n",
              "      <td>Home</td>\n",
              "      <td>Won</td>\n",
              "      <td>43.0</td>\n",
              "    </tr>\n",
              "    <tr>\n",
              "      <th>45</th>\n",
              "      <td>100</td>\n",
              "      <td>178.57</td>\n",
              "      <td>T20</td>\n",
              "      <td>1</td>\n",
              "      <td>2</td>\n",
              "      <td>No</td>\n",
              "      <td>Yes</td>\n",
              "      <td>England</td>\n",
              "      <td>Bristol County Ground, Bristol</td>\n",
              "      <td>Away</td>\n",
              "      <td>Won</td>\n",
              "      <td>56.0</td>\n",
              "    </tr>\n",
              "    <tr>\n",
              "      <th>46</th>\n",
              "      <td>111</td>\n",
              "      <td>181.96</td>\n",
              "      <td>T20</td>\n",
              "      <td>1</td>\n",
              "      <td>1</td>\n",
              "      <td>No</td>\n",
              "      <td>Yes</td>\n",
              "      <td>West Indies</td>\n",
              "      <td>Ekana Stadium, Lucknow</td>\n",
              "      <td>Home</td>\n",
              "      <td>Won</td>\n",
              "      <td>61.0</td>\n",
              "    </tr>\n",
              "    <tr>\n",
              "      <th>47</th>\n",
              "      <td>121</td>\n",
              "      <td>175.36</td>\n",
              "      <td>T20</td>\n",
              "      <td>2</td>\n",
              "      <td>1</td>\n",
              "      <td>No</td>\n",
              "      <td>Yes</td>\n",
              "      <td>Afghanistan</td>\n",
              "      <td>M. Chinnaswamy Stadium, Bangalore</td>\n",
              "      <td>Home</td>\n",
              "      <td>Won</td>\n",
              "      <td>69.0</td>\n",
              "    </tr>\n",
              "  </tbody>\n",
              "</table>\n",
              "</div>\n",
              "    <div class=\"colab-df-buttons\">\n",
              "\n",
              "  <div class=\"colab-df-container\">\n",
              "    <button class=\"colab-df-convert\" onclick=\"convertToInteractive('df-a729d5bf-a340-4452-9e8b-bf509d06ba6a')\"\n",
              "            title=\"Convert this dataframe to an interactive table.\"\n",
              "            style=\"display:none;\">\n",
              "\n",
              "  <svg xmlns=\"http://www.w3.org/2000/svg\" height=\"24px\" viewBox=\"0 -960 960 960\">\n",
              "    <path d=\"M120-120v-720h720v720H120Zm60-500h600v-160H180v160Zm220 220h160v-160H400v160Zm0 220h160v-160H400v160ZM180-400h160v-160H180v160Zm440 0h160v-160H620v160ZM180-180h160v-160H180v160Zm440 0h160v-160H620v160Z\"/>\n",
              "  </svg>\n",
              "    </button>\n",
              "\n",
              "  <style>\n",
              "    .colab-df-container {\n",
              "      display:flex;\n",
              "      gap: 12px;\n",
              "    }\n",
              "\n",
              "    .colab-df-convert {\n",
              "      background-color: #E8F0FE;\n",
              "      border: none;\n",
              "      border-radius: 50%;\n",
              "      cursor: pointer;\n",
              "      display: none;\n",
              "      fill: #1967D2;\n",
              "      height: 32px;\n",
              "      padding: 0 0 0 0;\n",
              "      width: 32px;\n",
              "    }\n",
              "\n",
              "    .colab-df-convert:hover {\n",
              "      background-color: #E2EBFA;\n",
              "      box-shadow: 0px 1px 2px rgba(60, 64, 67, 0.3), 0px 1px 3px 1px rgba(60, 64, 67, 0.15);\n",
              "      fill: #174EA6;\n",
              "    }\n",
              "\n",
              "    .colab-df-buttons div {\n",
              "      margin-bottom: 4px;\n",
              "    }\n",
              "\n",
              "    [theme=dark] .colab-df-convert {\n",
              "      background-color: #3B4455;\n",
              "      fill: #D2E3FC;\n",
              "    }\n",
              "\n",
              "    [theme=dark] .colab-df-convert:hover {\n",
              "      background-color: #434B5C;\n",
              "      box-shadow: 0px 1px 3px 1px rgba(0, 0, 0, 0.15);\n",
              "      filter: drop-shadow(0px 1px 2px rgba(0, 0, 0, 0.3));\n",
              "      fill: #FFFFFF;\n",
              "    }\n",
              "  </style>\n",
              "\n",
              "    <script>\n",
              "      const buttonEl =\n",
              "        document.querySelector('#df-a729d5bf-a340-4452-9e8b-bf509d06ba6a button.colab-df-convert');\n",
              "      buttonEl.style.display =\n",
              "        google.colab.kernel.accessAllowed ? 'block' : 'none';\n",
              "\n",
              "      async function convertToInteractive(key) {\n",
              "        const element = document.querySelector('#df-a729d5bf-a340-4452-9e8b-bf509d06ba6a');\n",
              "        const dataTable =\n",
              "          await google.colab.kernel.invokeFunction('convertToInteractive',\n",
              "                                                    [key], {});\n",
              "        if (!dataTable) return;\n",
              "\n",
              "        const docLinkHtml = 'Like what you see? Visit the ' +\n",
              "          '<a target=\"_blank\" href=https://colab.research.google.com/notebooks/data_table.ipynb>data table notebook</a>'\n",
              "          + ' to learn more about interactive tables.';\n",
              "        element.innerHTML = '';\n",
              "        dataTable['output_type'] = 'display_data';\n",
              "        await google.colab.output.renderOutput(dataTable, element);\n",
              "        const docLink = document.createElement('div');\n",
              "        docLink.innerHTML = docLinkHtml;\n",
              "        element.appendChild(docLink);\n",
              "      }\n",
              "    </script>\n",
              "  </div>\n",
              "\n",
              "\n",
              "<div id=\"df-53b7fd49-3020-4a59-90f4-2136c9f28ad3\">\n",
              "  <button class=\"colab-df-quickchart\" onclick=\"quickchart('df-53b7fd49-3020-4a59-90f4-2136c9f28ad3')\"\n",
              "            title=\"Suggest charts\"\n",
              "            style=\"display:none;\">\n",
              "\n",
              "<svg xmlns=\"http://www.w3.org/2000/svg\" height=\"24px\"viewBox=\"0 0 24 24\"\n",
              "     width=\"24px\">\n",
              "    <g>\n",
              "        <path d=\"M19 3H5c-1.1 0-2 .9-2 2v14c0 1.1.9 2 2 2h14c1.1 0 2-.9 2-2V5c0-1.1-.9-2-2-2zM9 17H7v-7h2v7zm4 0h-2V7h2v10zm4 0h-2v-4h2v4z\"/>\n",
              "    </g>\n",
              "</svg>\n",
              "  </button>\n",
              "\n",
              "<style>\n",
              "  .colab-df-quickchart {\n",
              "      --bg-color: #E8F0FE;\n",
              "      --fill-color: #1967D2;\n",
              "      --hover-bg-color: #E2EBFA;\n",
              "      --hover-fill-color: #174EA6;\n",
              "      --disabled-fill-color: #AAA;\n",
              "      --disabled-bg-color: #DDD;\n",
              "  }\n",
              "\n",
              "  [theme=dark] .colab-df-quickchart {\n",
              "      --bg-color: #3B4455;\n",
              "      --fill-color: #D2E3FC;\n",
              "      --hover-bg-color: #434B5C;\n",
              "      --hover-fill-color: #FFFFFF;\n",
              "      --disabled-bg-color: #3B4455;\n",
              "      --disabled-fill-color: #666;\n",
              "  }\n",
              "\n",
              "  .colab-df-quickchart {\n",
              "    background-color: var(--bg-color);\n",
              "    border: none;\n",
              "    border-radius: 50%;\n",
              "    cursor: pointer;\n",
              "    display: none;\n",
              "    fill: var(--fill-color);\n",
              "    height: 32px;\n",
              "    padding: 0;\n",
              "    width: 32px;\n",
              "  }\n",
              "\n",
              "  .colab-df-quickchart:hover {\n",
              "    background-color: var(--hover-bg-color);\n",
              "    box-shadow: 0 1px 2px rgba(60, 64, 67, 0.3), 0 1px 3px 1px rgba(60, 64, 67, 0.15);\n",
              "    fill: var(--button-hover-fill-color);\n",
              "  }\n",
              "\n",
              "  .colab-df-quickchart-complete:disabled,\n",
              "  .colab-df-quickchart-complete:disabled:hover {\n",
              "    background-color: var(--disabled-bg-color);\n",
              "    fill: var(--disabled-fill-color);\n",
              "    box-shadow: none;\n",
              "  }\n",
              "\n",
              "  .colab-df-spinner {\n",
              "    border: 2px solid var(--fill-color);\n",
              "    border-color: transparent;\n",
              "    border-bottom-color: var(--fill-color);\n",
              "    animation:\n",
              "      spin 1s steps(1) infinite;\n",
              "  }\n",
              "\n",
              "  @keyframes spin {\n",
              "    0% {\n",
              "      border-color: transparent;\n",
              "      border-bottom-color: var(--fill-color);\n",
              "      border-left-color: var(--fill-color);\n",
              "    }\n",
              "    20% {\n",
              "      border-color: transparent;\n",
              "      border-left-color: var(--fill-color);\n",
              "      border-top-color: var(--fill-color);\n",
              "    }\n",
              "    30% {\n",
              "      border-color: transparent;\n",
              "      border-left-color: var(--fill-color);\n",
              "      border-top-color: var(--fill-color);\n",
              "      border-right-color: var(--fill-color);\n",
              "    }\n",
              "    40% {\n",
              "      border-color: transparent;\n",
              "      border-right-color: var(--fill-color);\n",
              "      border-top-color: var(--fill-color);\n",
              "    }\n",
              "    60% {\n",
              "      border-color: transparent;\n",
              "      border-right-color: var(--fill-color);\n",
              "    }\n",
              "    80% {\n",
              "      border-color: transparent;\n",
              "      border-right-color: var(--fill-color);\n",
              "      border-bottom-color: var(--fill-color);\n",
              "    }\n",
              "    90% {\n",
              "      border-color: transparent;\n",
              "      border-bottom-color: var(--fill-color);\n",
              "    }\n",
              "  }\n",
              "</style>\n",
              "\n",
              "  <script>\n",
              "    async function quickchart(key) {\n",
              "      const quickchartButtonEl =\n",
              "        document.querySelector('#' + key + ' button');\n",
              "      quickchartButtonEl.disabled = true;  // To prevent multiple clicks.\n",
              "      quickchartButtonEl.classList.add('colab-df-spinner');\n",
              "      try {\n",
              "        const charts = await google.colab.kernel.invokeFunction(\n",
              "            'suggestCharts', [key], {});\n",
              "      } catch (error) {\n",
              "        console.error('Error during call to suggestCharts:', error);\n",
              "      }\n",
              "      quickchartButtonEl.classList.remove('colab-df-spinner');\n",
              "      quickchartButtonEl.classList.add('colab-df-quickchart-complete');\n",
              "    }\n",
              "    (() => {\n",
              "      let quickchartButtonEl =\n",
              "        document.querySelector('#df-53b7fd49-3020-4a59-90f4-2136c9f28ad3 button');\n",
              "      quickchartButtonEl.style.display =\n",
              "        google.colab.kernel.accessAllowed ? 'block' : 'none';\n",
              "    })();\n",
              "  </script>\n",
              "</div>\n",
              "\n",
              "    </div>\n",
              "  </div>\n"
            ],
            "application/vnd.google.colaboratory.intrinsic+json": {
              "type": "dataframe",
              "variable_name": "X",
              "summary": "{\n  \"name\": \"X\",\n  \"rows\": 5,\n  \"fields\": [\n    {\n      \"column\": \"Score\",\n      \"properties\": {\n        \"dtype\": \"number\",\n        \"std\": 8,\n        \"min\": 100,\n        \"max\": 121,\n        \"num_unique_values\": 5,\n        \"samples\": [\n          118,\n          121,\n          100\n        ],\n        \"semantic_type\": \"\",\n        \"description\": \"\"\n      }\n    },\n    {\n      \"column\": \"Strike Rate\",\n      \"properties\": {\n        \"dtype\": \"number\",\n        \"std\": 45.58415898094426,\n        \"min\": 160.6,\n        \"max\": 274.41,\n        \"num_unique_values\": 5,\n        \"samples\": [\n          274.41,\n          175.36,\n          178.57\n        ],\n        \"semantic_type\": \"\",\n        \"description\": \"\"\n      }\n    },\n    {\n      \"column\": \"Type of Match\",\n      \"properties\": {\n        \"dtype\": \"category\",\n        \"num_unique_values\": 1,\n        \"samples\": [\n          \"T20\"\n        ],\n        \"semantic_type\": \"\",\n        \"description\": \"\"\n      }\n    },\n    {\n      \"column\": \"Position\",\n      \"properties\": {\n        \"dtype\": \"number\",\n        \"std\": 0,\n        \"min\": 1,\n        \"max\": 2,\n        \"num_unique_values\": 2,\n        \"samples\": [\n          2\n        ],\n        \"semantic_type\": \"\",\n        \"description\": \"\"\n      }\n    },\n    {\n      \"column\": \"Innings\",\n      \"properties\": {\n        \"dtype\": \"number\",\n        \"std\": 0,\n        \"min\": 1,\n        \"max\": 2,\n        \"num_unique_values\": 2,\n        \"samples\": [\n          2\n        ],\n        \"semantic_type\": \"\",\n        \"description\": \"\"\n      }\n    },\n    {\n      \"column\": \"Dismissed \",\n      \"properties\": {\n        \"dtype\": \"category\",\n        \"num_unique_values\": 2,\n        \"samples\": [\n          \"No\"\n        ],\n        \"semantic_type\": \"\",\n        \"description\": \"\"\n      }\n    },\n    {\n      \"column\": \"Man of the Match\",\n      \"properties\": {\n        \"dtype\": \"category\",\n        \"num_unique_values\": 2,\n        \"samples\": [\n          \"Yes\"\n        ],\n        \"semantic_type\": \"\",\n        \"description\": \"\"\n      }\n    },\n    {\n      \"column\": \"Against\",\n      \"properties\": {\n        \"dtype\": \"string\",\n        \"num_unique_values\": 5,\n        \"samples\": [\n          \"Sri Lanka\"\n        ],\n        \"semantic_type\": \"\",\n        \"description\": \"\"\n      }\n    },\n    {\n      \"column\": \"Venue\",\n      \"properties\": {\n        \"dtype\": \"string\",\n        \"num_unique_values\": 5,\n        \"samples\": [\n          \"Holkar Cricket Stadium, Indore\"\n        ],\n        \"semantic_type\": \"\",\n        \"description\": \"\"\n      }\n    },\n    {\n      \"column\": \"H/A/N\",\n      \"properties\": {\n        \"dtype\": \"category\",\n        \"num_unique_values\": 2,\n        \"samples\": [\n          \"Away\"\n        ],\n        \"semantic_type\": \"\",\n        \"description\": \"\"\n      }\n    },\n    {\n      \"column\": \"Result\",\n      \"properties\": {\n        \"dtype\": \"category\",\n        \"num_unique_values\": 2,\n        \"samples\": [\n          \"Won\"\n        ],\n        \"semantic_type\": \"\",\n        \"description\": \"\"\n      }\n    },\n    {\n      \"column\": \"Balls_faced\",\n      \"properties\": {\n        \"dtype\": \"number\",\n        \"std\": 10.222524150130436,\n        \"min\": 43.0,\n        \"max\": 69.0,\n        \"num_unique_values\": 5,\n        \"samples\": [\n          43.0\n        ],\n        \"semantic_type\": \"\",\n        \"description\": \"\"\n      }\n    }\n  ]\n}"
            }
          },
          "metadata": {},
          "execution_count": 39
        }
      ]
    },
    {
      "cell_type": "code",
      "source": [
        "X['Balls_faced']=X['Balls_faced'].round()"
      ],
      "metadata": {
        "id": "mAXMEZQ0pBEq"
      },
      "execution_count": 38,
      "outputs": []
    },
    {
      "cell_type": "code",
      "source": [
        "X['Balls_faced'].sum()/6"
      ],
      "metadata": {
        "colab": {
          "base_uri": "https://localhost:8080/"
        },
        "id": "P74znvkupF5B",
        "outputId": "b475847c-dcda-4241-a1c5-fad2323ad7fa"
      },
      "execution_count": 40,
      "outputs": [
        {
          "output_type": "execute_result",
          "data": {
            "text/plain": [
              "49.166666666666664"
            ]
          },
          "metadata": {},
          "execution_count": 40
        }
      ]
    },
    {
      "cell_type": "markdown",
      "source": [
        "Rohit Sharma faces about 49 balls per innings on an average"
      ],
      "metadata": {
        "id": "SmJn9EhnpSg0"
      }
    },
    {
      "cell_type": "markdown",
      "source": [
        "# ODI Analysis"
      ],
      "metadata": {
        "id": "bObzbbcqpdGj"
      }
    },
    {
      "cell_type": "code",
      "source": [
        "Y=df[df['Type of Match']=='ODI']"
      ],
      "metadata": {
        "id": "VD7WmSYgpROD"
      },
      "execution_count": 41,
      "outputs": []
    },
    {
      "cell_type": "code",
      "source": [
        "Y.head(15)"
      ],
      "metadata": {
        "colab": {
          "base_uri": "https://localhost:8080/",
          "height": 589
        },
        "id": "FRv_2x5Tpm70",
        "outputId": "841c4cf9-71c1-4338-bcb7-720e82f6e0c1"
      },
      "execution_count": 66,
      "outputs": [
        {
          "output_type": "execute_result",
          "data": {
            "text/plain": [
              "    Score  Strike Rate Type of Match  Position  Innings Dismissed   \\\n",
              "0     114        95.79           ODI         4        1        Yes   \n",
              "1     101       170.00           ODI         4        2         No   \n",
              "2     141       114.63           ODI         1        2         No   \n",
              "3     209       132.27           ODI         1        1        Yes   \n",
              "4     264       152.60           ODI         2        1        Yes   \n",
              "5     138        99.28           ODI         1        1        Yes   \n",
              "6     137       108.73           ODI         1        1        Yes   \n",
              "7     150       112.78           ODI         1        2        Yes   \n",
              "8     171       104.90           ODI         1        1         No   \n",
              "9     124        97.63           ODI         1        1        Yes   \n",
              "10    123        95.34           ODI         1        2         No   \n",
              "11    124        85.51           ODI         1        2         No   \n",
              "12    104       118.18           ODI         1        1        Yes   \n",
              "13    125       114.67           ODI         2        2        Yes   \n",
              "14    147       106.52           ODI         1        1        Yes   \n",
              "\n",
              "   Man of the Match       Against  \\\n",
              "0                No      Zimbabwe   \n",
              "1               Yes     Sri Lanka   \n",
              "2               Yes     Australia   \n",
              "3               Yes     Australia   \n",
              "4               Yes     Sri Lanka   \n",
              "5                No     Australia   \n",
              "6               Yes    Bangladesh   \n",
              "7                No  South Africa   \n",
              "8                No     Australia   \n",
              "9               Yes     Australia   \n",
              "10              Yes    Bangladesh   \n",
              "11               No     Sri Lanka   \n",
              "12               No     Sri Lanka   \n",
              "13              Yes     Australia   \n",
              "14              Yes   New Zealand   \n",
              "\n",
              "                                                Venue    H/A/N Result  \n",
              "0                        Queens Sports Club, Bulawayo     Away   Lost  \n",
              "1                        Queens Sports Club, Bulawayo  Neutral    Won  \n",
              "2                      Sawai Mansingh Stadium, Jaipur     Home    Won  \n",
              "3                   M. Chinnaswamy Stadium, Bangalore     Home    Won  \n",
              "4                               Eden Gardens, Kolkata     Home    Won  \n",
              "5                 Melbourne Cricket Ground, Melbourne     Away   Lost  \n",
              "6                 Melbourne Cricket Ground, Melbourne  Neutral    Won  \n",
              "7                          Green Park Stadium, Kanpur     Home   Lost  \n",
              "8                                  WACA Ground, Perth     Away   Lost  \n",
              "9                                 The Gabba, Brisbane     Away   Lost  \n",
              "10               Edgbaston Cricket Ground, Birmingham  Neutral    Won  \n",
              "11  Pallekele International Cricket Stadium, Palle...     Away    Won  \n",
              "12                      R. Premadasa Stadium, Colombo     Away    Won  \n",
              "13       Vidarbha Cricket Association Stadium, Nagpur     Home    Won  \n",
              "14                         Green Park Stadium, Kanpur     Home    Won  "
            ],
            "text/html": [
              "\n",
              "  <div id=\"df-33d54c8f-fc24-4b79-95f8-cbb8def9047d\" class=\"colab-df-container\">\n",
              "    <div>\n",
              "<style scoped>\n",
              "    .dataframe tbody tr th:only-of-type {\n",
              "        vertical-align: middle;\n",
              "    }\n",
              "\n",
              "    .dataframe tbody tr th {\n",
              "        vertical-align: top;\n",
              "    }\n",
              "\n",
              "    .dataframe thead th {\n",
              "        text-align: right;\n",
              "    }\n",
              "</style>\n",
              "<table border=\"1\" class=\"dataframe\">\n",
              "  <thead>\n",
              "    <tr style=\"text-align: right;\">\n",
              "      <th></th>\n",
              "      <th>Score</th>\n",
              "      <th>Strike Rate</th>\n",
              "      <th>Type of Match</th>\n",
              "      <th>Position</th>\n",
              "      <th>Innings</th>\n",
              "      <th>Dismissed</th>\n",
              "      <th>Man of the Match</th>\n",
              "      <th>Against</th>\n",
              "      <th>Venue</th>\n",
              "      <th>H/A/N</th>\n",
              "      <th>Result</th>\n",
              "    </tr>\n",
              "  </thead>\n",
              "  <tbody>\n",
              "    <tr>\n",
              "      <th>0</th>\n",
              "      <td>114</td>\n",
              "      <td>95.79</td>\n",
              "      <td>ODI</td>\n",
              "      <td>4</td>\n",
              "      <td>1</td>\n",
              "      <td>Yes</td>\n",
              "      <td>No</td>\n",
              "      <td>Zimbabwe</td>\n",
              "      <td>Queens Sports Club, Bulawayo</td>\n",
              "      <td>Away</td>\n",
              "      <td>Lost</td>\n",
              "    </tr>\n",
              "    <tr>\n",
              "      <th>1</th>\n",
              "      <td>101</td>\n",
              "      <td>170.00</td>\n",
              "      <td>ODI</td>\n",
              "      <td>4</td>\n",
              "      <td>2</td>\n",
              "      <td>No</td>\n",
              "      <td>Yes</td>\n",
              "      <td>Sri Lanka</td>\n",
              "      <td>Queens Sports Club, Bulawayo</td>\n",
              "      <td>Neutral</td>\n",
              "      <td>Won</td>\n",
              "    </tr>\n",
              "    <tr>\n",
              "      <th>2</th>\n",
              "      <td>141</td>\n",
              "      <td>114.63</td>\n",
              "      <td>ODI</td>\n",
              "      <td>1</td>\n",
              "      <td>2</td>\n",
              "      <td>No</td>\n",
              "      <td>Yes</td>\n",
              "      <td>Australia</td>\n",
              "      <td>Sawai Mansingh Stadium, Jaipur</td>\n",
              "      <td>Home</td>\n",
              "      <td>Won</td>\n",
              "    </tr>\n",
              "    <tr>\n",
              "      <th>3</th>\n",
              "      <td>209</td>\n",
              "      <td>132.27</td>\n",
              "      <td>ODI</td>\n",
              "      <td>1</td>\n",
              "      <td>1</td>\n",
              "      <td>Yes</td>\n",
              "      <td>Yes</td>\n",
              "      <td>Australia</td>\n",
              "      <td>M. Chinnaswamy Stadium, Bangalore</td>\n",
              "      <td>Home</td>\n",
              "      <td>Won</td>\n",
              "    </tr>\n",
              "    <tr>\n",
              "      <th>4</th>\n",
              "      <td>264</td>\n",
              "      <td>152.60</td>\n",
              "      <td>ODI</td>\n",
              "      <td>2</td>\n",
              "      <td>1</td>\n",
              "      <td>Yes</td>\n",
              "      <td>Yes</td>\n",
              "      <td>Sri Lanka</td>\n",
              "      <td>Eden Gardens, Kolkata</td>\n",
              "      <td>Home</td>\n",
              "      <td>Won</td>\n",
              "    </tr>\n",
              "    <tr>\n",
              "      <th>5</th>\n",
              "      <td>138</td>\n",
              "      <td>99.28</td>\n",
              "      <td>ODI</td>\n",
              "      <td>1</td>\n",
              "      <td>1</td>\n",
              "      <td>Yes</td>\n",
              "      <td>No</td>\n",
              "      <td>Australia</td>\n",
              "      <td>Melbourne Cricket Ground, Melbourne</td>\n",
              "      <td>Away</td>\n",
              "      <td>Lost</td>\n",
              "    </tr>\n",
              "    <tr>\n",
              "      <th>6</th>\n",
              "      <td>137</td>\n",
              "      <td>108.73</td>\n",
              "      <td>ODI</td>\n",
              "      <td>1</td>\n",
              "      <td>1</td>\n",
              "      <td>Yes</td>\n",
              "      <td>Yes</td>\n",
              "      <td>Bangladesh</td>\n",
              "      <td>Melbourne Cricket Ground, Melbourne</td>\n",
              "      <td>Neutral</td>\n",
              "      <td>Won</td>\n",
              "    </tr>\n",
              "    <tr>\n",
              "      <th>7</th>\n",
              "      <td>150</td>\n",
              "      <td>112.78</td>\n",
              "      <td>ODI</td>\n",
              "      <td>1</td>\n",
              "      <td>2</td>\n",
              "      <td>Yes</td>\n",
              "      <td>No</td>\n",
              "      <td>South Africa</td>\n",
              "      <td>Green Park Stadium, Kanpur</td>\n",
              "      <td>Home</td>\n",
              "      <td>Lost</td>\n",
              "    </tr>\n",
              "    <tr>\n",
              "      <th>8</th>\n",
              "      <td>171</td>\n",
              "      <td>104.90</td>\n",
              "      <td>ODI</td>\n",
              "      <td>1</td>\n",
              "      <td>1</td>\n",
              "      <td>No</td>\n",
              "      <td>No</td>\n",
              "      <td>Australia</td>\n",
              "      <td>WACA Ground, Perth</td>\n",
              "      <td>Away</td>\n",
              "      <td>Lost</td>\n",
              "    </tr>\n",
              "    <tr>\n",
              "      <th>9</th>\n",
              "      <td>124</td>\n",
              "      <td>97.63</td>\n",
              "      <td>ODI</td>\n",
              "      <td>1</td>\n",
              "      <td>1</td>\n",
              "      <td>Yes</td>\n",
              "      <td>Yes</td>\n",
              "      <td>Australia</td>\n",
              "      <td>The Gabba, Brisbane</td>\n",
              "      <td>Away</td>\n",
              "      <td>Lost</td>\n",
              "    </tr>\n",
              "    <tr>\n",
              "      <th>10</th>\n",
              "      <td>123</td>\n",
              "      <td>95.34</td>\n",
              "      <td>ODI</td>\n",
              "      <td>1</td>\n",
              "      <td>2</td>\n",
              "      <td>No</td>\n",
              "      <td>Yes</td>\n",
              "      <td>Bangladesh</td>\n",
              "      <td>Edgbaston Cricket Ground, Birmingham</td>\n",
              "      <td>Neutral</td>\n",
              "      <td>Won</td>\n",
              "    </tr>\n",
              "    <tr>\n",
              "      <th>11</th>\n",
              "      <td>124</td>\n",
              "      <td>85.51</td>\n",
              "      <td>ODI</td>\n",
              "      <td>1</td>\n",
              "      <td>2</td>\n",
              "      <td>No</td>\n",
              "      <td>No</td>\n",
              "      <td>Sri Lanka</td>\n",
              "      <td>Pallekele International Cricket Stadium, Palle...</td>\n",
              "      <td>Away</td>\n",
              "      <td>Won</td>\n",
              "    </tr>\n",
              "    <tr>\n",
              "      <th>12</th>\n",
              "      <td>104</td>\n",
              "      <td>118.18</td>\n",
              "      <td>ODI</td>\n",
              "      <td>1</td>\n",
              "      <td>1</td>\n",
              "      <td>Yes</td>\n",
              "      <td>No</td>\n",
              "      <td>Sri Lanka</td>\n",
              "      <td>R. Premadasa Stadium, Colombo</td>\n",
              "      <td>Away</td>\n",
              "      <td>Won</td>\n",
              "    </tr>\n",
              "    <tr>\n",
              "      <th>13</th>\n",
              "      <td>125</td>\n",
              "      <td>114.67</td>\n",
              "      <td>ODI</td>\n",
              "      <td>2</td>\n",
              "      <td>2</td>\n",
              "      <td>Yes</td>\n",
              "      <td>Yes</td>\n",
              "      <td>Australia</td>\n",
              "      <td>Vidarbha Cricket Association Stadium, Nagpur</td>\n",
              "      <td>Home</td>\n",
              "      <td>Won</td>\n",
              "    </tr>\n",
              "    <tr>\n",
              "      <th>14</th>\n",
              "      <td>147</td>\n",
              "      <td>106.52</td>\n",
              "      <td>ODI</td>\n",
              "      <td>1</td>\n",
              "      <td>1</td>\n",
              "      <td>Yes</td>\n",
              "      <td>Yes</td>\n",
              "      <td>New Zealand</td>\n",
              "      <td>Green Park Stadium, Kanpur</td>\n",
              "      <td>Home</td>\n",
              "      <td>Won</td>\n",
              "    </tr>\n",
              "  </tbody>\n",
              "</table>\n",
              "</div>\n",
              "    <div class=\"colab-df-buttons\">\n",
              "\n",
              "  <div class=\"colab-df-container\">\n",
              "    <button class=\"colab-df-convert\" onclick=\"convertToInteractive('df-33d54c8f-fc24-4b79-95f8-cbb8def9047d')\"\n",
              "            title=\"Convert this dataframe to an interactive table.\"\n",
              "            style=\"display:none;\">\n",
              "\n",
              "  <svg xmlns=\"http://www.w3.org/2000/svg\" height=\"24px\" viewBox=\"0 -960 960 960\">\n",
              "    <path d=\"M120-120v-720h720v720H120Zm60-500h600v-160H180v160Zm220 220h160v-160H400v160Zm0 220h160v-160H400v160ZM180-400h160v-160H180v160Zm440 0h160v-160H620v160ZM180-180h160v-160H180v160Zm440 0h160v-160H620v160Z\"/>\n",
              "  </svg>\n",
              "    </button>\n",
              "\n",
              "  <style>\n",
              "    .colab-df-container {\n",
              "      display:flex;\n",
              "      gap: 12px;\n",
              "    }\n",
              "\n",
              "    .colab-df-convert {\n",
              "      background-color: #E8F0FE;\n",
              "      border: none;\n",
              "      border-radius: 50%;\n",
              "      cursor: pointer;\n",
              "      display: none;\n",
              "      fill: #1967D2;\n",
              "      height: 32px;\n",
              "      padding: 0 0 0 0;\n",
              "      width: 32px;\n",
              "    }\n",
              "\n",
              "    .colab-df-convert:hover {\n",
              "      background-color: #E2EBFA;\n",
              "      box-shadow: 0px 1px 2px rgba(60, 64, 67, 0.3), 0px 1px 3px 1px rgba(60, 64, 67, 0.15);\n",
              "      fill: #174EA6;\n",
              "    }\n",
              "\n",
              "    .colab-df-buttons div {\n",
              "      margin-bottom: 4px;\n",
              "    }\n",
              "\n",
              "    [theme=dark] .colab-df-convert {\n",
              "      background-color: #3B4455;\n",
              "      fill: #D2E3FC;\n",
              "    }\n",
              "\n",
              "    [theme=dark] .colab-df-convert:hover {\n",
              "      background-color: #434B5C;\n",
              "      box-shadow: 0px 1px 3px 1px rgba(0, 0, 0, 0.15);\n",
              "      filter: drop-shadow(0px 1px 2px rgba(0, 0, 0, 0.3));\n",
              "      fill: #FFFFFF;\n",
              "    }\n",
              "  </style>\n",
              "\n",
              "    <script>\n",
              "      const buttonEl =\n",
              "        document.querySelector('#df-33d54c8f-fc24-4b79-95f8-cbb8def9047d button.colab-df-convert');\n",
              "      buttonEl.style.display =\n",
              "        google.colab.kernel.accessAllowed ? 'block' : 'none';\n",
              "\n",
              "      async function convertToInteractive(key) {\n",
              "        const element = document.querySelector('#df-33d54c8f-fc24-4b79-95f8-cbb8def9047d');\n",
              "        const dataTable =\n",
              "          await google.colab.kernel.invokeFunction('convertToInteractive',\n",
              "                                                    [key], {});\n",
              "        if (!dataTable) return;\n",
              "\n",
              "        const docLinkHtml = 'Like what you see? Visit the ' +\n",
              "          '<a target=\"_blank\" href=https://colab.research.google.com/notebooks/data_table.ipynb>data table notebook</a>'\n",
              "          + ' to learn more about interactive tables.';\n",
              "        element.innerHTML = '';\n",
              "        dataTable['output_type'] = 'display_data';\n",
              "        await google.colab.output.renderOutput(dataTable, element);\n",
              "        const docLink = document.createElement('div');\n",
              "        docLink.innerHTML = docLinkHtml;\n",
              "        element.appendChild(docLink);\n",
              "      }\n",
              "    </script>\n",
              "  </div>\n",
              "\n",
              "\n",
              "<div id=\"df-702b81bc-368d-4051-b5c5-a4065127b0e7\">\n",
              "  <button class=\"colab-df-quickchart\" onclick=\"quickchart('df-702b81bc-368d-4051-b5c5-a4065127b0e7')\"\n",
              "            title=\"Suggest charts\"\n",
              "            style=\"display:none;\">\n",
              "\n",
              "<svg xmlns=\"http://www.w3.org/2000/svg\" height=\"24px\"viewBox=\"0 0 24 24\"\n",
              "     width=\"24px\">\n",
              "    <g>\n",
              "        <path d=\"M19 3H5c-1.1 0-2 .9-2 2v14c0 1.1.9 2 2 2h14c1.1 0 2-.9 2-2V5c0-1.1-.9-2-2-2zM9 17H7v-7h2v7zm4 0h-2V7h2v10zm4 0h-2v-4h2v4z\"/>\n",
              "    </g>\n",
              "</svg>\n",
              "  </button>\n",
              "\n",
              "<style>\n",
              "  .colab-df-quickchart {\n",
              "      --bg-color: #E8F0FE;\n",
              "      --fill-color: #1967D2;\n",
              "      --hover-bg-color: #E2EBFA;\n",
              "      --hover-fill-color: #174EA6;\n",
              "      --disabled-fill-color: #AAA;\n",
              "      --disabled-bg-color: #DDD;\n",
              "  }\n",
              "\n",
              "  [theme=dark] .colab-df-quickchart {\n",
              "      --bg-color: #3B4455;\n",
              "      --fill-color: #D2E3FC;\n",
              "      --hover-bg-color: #434B5C;\n",
              "      --hover-fill-color: #FFFFFF;\n",
              "      --disabled-bg-color: #3B4455;\n",
              "      --disabled-fill-color: #666;\n",
              "  }\n",
              "\n",
              "  .colab-df-quickchart {\n",
              "    background-color: var(--bg-color);\n",
              "    border: none;\n",
              "    border-radius: 50%;\n",
              "    cursor: pointer;\n",
              "    display: none;\n",
              "    fill: var(--fill-color);\n",
              "    height: 32px;\n",
              "    padding: 0;\n",
              "    width: 32px;\n",
              "  }\n",
              "\n",
              "  .colab-df-quickchart:hover {\n",
              "    background-color: var(--hover-bg-color);\n",
              "    box-shadow: 0 1px 2px rgba(60, 64, 67, 0.3), 0 1px 3px 1px rgba(60, 64, 67, 0.15);\n",
              "    fill: var(--button-hover-fill-color);\n",
              "  }\n",
              "\n",
              "  .colab-df-quickchart-complete:disabled,\n",
              "  .colab-df-quickchart-complete:disabled:hover {\n",
              "    background-color: var(--disabled-bg-color);\n",
              "    fill: var(--disabled-fill-color);\n",
              "    box-shadow: none;\n",
              "  }\n",
              "\n",
              "  .colab-df-spinner {\n",
              "    border: 2px solid var(--fill-color);\n",
              "    border-color: transparent;\n",
              "    border-bottom-color: var(--fill-color);\n",
              "    animation:\n",
              "      spin 1s steps(1) infinite;\n",
              "  }\n",
              "\n",
              "  @keyframes spin {\n",
              "    0% {\n",
              "      border-color: transparent;\n",
              "      border-bottom-color: var(--fill-color);\n",
              "      border-left-color: var(--fill-color);\n",
              "    }\n",
              "    20% {\n",
              "      border-color: transparent;\n",
              "      border-left-color: var(--fill-color);\n",
              "      border-top-color: var(--fill-color);\n",
              "    }\n",
              "    30% {\n",
              "      border-color: transparent;\n",
              "      border-left-color: var(--fill-color);\n",
              "      border-top-color: var(--fill-color);\n",
              "      border-right-color: var(--fill-color);\n",
              "    }\n",
              "    40% {\n",
              "      border-color: transparent;\n",
              "      border-right-color: var(--fill-color);\n",
              "      border-top-color: var(--fill-color);\n",
              "    }\n",
              "    60% {\n",
              "      border-color: transparent;\n",
              "      border-right-color: var(--fill-color);\n",
              "    }\n",
              "    80% {\n",
              "      border-color: transparent;\n",
              "      border-right-color: var(--fill-color);\n",
              "      border-bottom-color: var(--fill-color);\n",
              "    }\n",
              "    90% {\n",
              "      border-color: transparent;\n",
              "      border-bottom-color: var(--fill-color);\n",
              "    }\n",
              "  }\n",
              "</style>\n",
              "\n",
              "  <script>\n",
              "    async function quickchart(key) {\n",
              "      const quickchartButtonEl =\n",
              "        document.querySelector('#' + key + ' button');\n",
              "      quickchartButtonEl.disabled = true;  // To prevent multiple clicks.\n",
              "      quickchartButtonEl.classList.add('colab-df-spinner');\n",
              "      try {\n",
              "        const charts = await google.colab.kernel.invokeFunction(\n",
              "            'suggestCharts', [key], {});\n",
              "      } catch (error) {\n",
              "        console.error('Error during call to suggestCharts:', error);\n",
              "      }\n",
              "      quickchartButtonEl.classList.remove('colab-df-spinner');\n",
              "      quickchartButtonEl.classList.add('colab-df-quickchart-complete');\n",
              "    }\n",
              "    (() => {\n",
              "      let quickchartButtonEl =\n",
              "        document.querySelector('#df-702b81bc-368d-4051-b5c5-a4065127b0e7 button');\n",
              "      quickchartButtonEl.style.display =\n",
              "        google.colab.kernel.accessAllowed ? 'block' : 'none';\n",
              "    })();\n",
              "  </script>\n",
              "</div>\n",
              "\n",
              "    </div>\n",
              "  </div>\n"
            ],
            "application/vnd.google.colaboratory.intrinsic+json": {
              "type": "dataframe",
              "variable_name": "Y",
              "summary": "{\n  \"name\": \"Y\",\n  \"rows\": 31,\n  \"fields\": [\n    {\n      \"column\": \"Score\",\n      \"properties\": {\n        \"dtype\": \"number\",\n        \"std\": 36,\n        \"min\": 101,\n        \"max\": 264,\n        \"num_unique_values\": 27,\n        \"samples\": [\n          171,\n          147,\n          124\n        ],\n        \"semantic_type\": \"\",\n        \"description\": \"\"\n      }\n    },\n    {\n      \"column\": \"Strike Rate\",\n      \"properties\": {\n        \"dtype\": \"number\",\n        \"std\": 20.449355769751023,\n        \"min\": 85.1,\n        \"max\": 170.0,\n        \"num_unique_values\": 31,\n        \"samples\": [\n          115.21,\n          135.94,\n          123.89\n        ],\n        \"semantic_type\": \"\",\n        \"description\": \"\"\n      }\n    },\n    {\n      \"column\": \"Type of Match\",\n      \"properties\": {\n        \"dtype\": \"category\",\n        \"num_unique_values\": 1,\n        \"samples\": [\n          \"ODI\"\n        ],\n        \"semantic_type\": \"\",\n        \"description\": \"\"\n      }\n    },\n    {\n      \"column\": \"Position\",\n      \"properties\": {\n        \"dtype\": \"number\",\n        \"std\": 0,\n        \"min\": 1,\n        \"max\": 4,\n        \"num_unique_values\": 3,\n        \"samples\": [\n          4\n        ],\n        \"semantic_type\": \"\",\n        \"description\": \"\"\n      }\n    },\n    {\n      \"column\": \"Innings\",\n      \"properties\": {\n        \"dtype\": \"number\",\n        \"std\": 0,\n        \"min\": 1,\n        \"max\": 2,\n        \"num_unique_values\": 2,\n        \"samples\": [\n          2\n        ],\n        \"semantic_type\": \"\",\n        \"description\": \"\"\n      }\n    },\n    {\n      \"column\": \"Dismissed \",\n      \"properties\": {\n        \"dtype\": \"category\",\n        \"num_unique_values\": 2,\n        \"samples\": [\n          \"No\"\n        ],\n        \"semantic_type\": \"\",\n        \"description\": \"\"\n      }\n    },\n    {\n      \"column\": \"Man of the Match\",\n      \"properties\": {\n        \"dtype\": \"category\",\n        \"num_unique_values\": 2,\n        \"samples\": [\n          \"Yes\"\n        ],\n        \"semantic_type\": \"\",\n        \"description\": \"\"\n      }\n    },\n    {\n      \"column\": \"Against\",\n      \"properties\": {\n        \"dtype\": \"category\",\n        \"num_unique_values\": 10,\n        \"samples\": [\n          \"West Indies\"\n        ],\n        \"semantic_type\": \"\",\n        \"description\": \"\"\n      }\n    },\n    {\n      \"column\": \"Venue\",\n      \"properties\": {\n        \"dtype\": \"string\",\n        \"num_unique_values\": 25,\n        \"samples\": [\n          \"Edgbaston Cricket Ground, Birmingham\"\n        ],\n        \"semantic_type\": \"\",\n        \"description\": \"\"\n      }\n    },\n    {\n      \"column\": \"H/A/N\",\n      \"properties\": {\n        \"dtype\": \"category\",\n        \"num_unique_values\": 3,\n        \"samples\": [\n          \"Away\"\n        ],\n        \"semantic_type\": \"\",\n        \"description\": \"\"\n      }\n    },\n    {\n      \"column\": \"Result\",\n      \"properties\": {\n        \"dtype\": \"category\",\n        \"num_unique_values\": 3,\n        \"samples\": [\n          \"Lost\"\n        ],\n        \"semantic_type\": \"\",\n        \"description\": \"\"\n      }\n    }\n  ]\n}"
            }
          },
          "metadata": {},
          "execution_count": 66
        }
      ]
    },
    {
      "cell_type": "markdown",
      "source": [
        "# Balls Faced"
      ],
      "metadata": {
        "id": "kZKlDei604KB"
      }
    },
    {
      "cell_type": "code",
      "source": [
        "Y['Balls_faced']=(Y['Score']*100)/Y['Strike Rate']"
      ],
      "metadata": {
        "id": "29lboXay0lSB"
      },
      "execution_count": 74,
      "outputs": []
    },
    {
      "cell_type": "code",
      "source": [
        "Y['Balls_faced']=Y['Balls_faced'].round()"
      ],
      "metadata": {
        "id": "EQc-gV8W0-Z-"
      },
      "execution_count": 76,
      "outputs": []
    },
    {
      "cell_type": "code",
      "source": [
        "Y.groupby('Venue')['Balls_faced'].sum()/Y.groupby('Venue')['Innings'].sum()"
      ],
      "metadata": {
        "colab": {
          "base_uri": "https://localhost:8080/"
        },
        "id": "gS92yQTr1N1E",
        "outputId": "08dc8d57-f96e-4313-a573-3f84d2b3f359"
      },
      "execution_count": 80,
      "outputs": [
        {
          "output_type": "execute_result",
          "data": {
            "text/plain": [
              "Venue\n",
              "ACA Stadium, Guwahati                                  58.500000\n",
              "ACA-VDCA Stadium, Vishakhapatnam                      138.000000\n",
              "Arun Jaitley Stadium, Delhi                            42.000000\n",
              "Brabourne Stadium, Mumbai                             137.000000\n",
              "Dubai Cricket Stadium, Dubai                           59.500000\n",
              "Eden Gardens, Kolkata                                 173.000000\n",
              "Edgbaston Cricket Ground, Birmingham                   66.000000\n",
              "Green Park Stadium, Kanpur                             90.333333\n",
              "Headingley Cricket Ground, Leeds                       47.000000\n",
              "Holkar Cricket Stadium, Indore                         85.000000\n",
              "M. Chinnaswamy Stadium, Bangalore                      95.333333\n",
              "Melbourne Cricket Ground, Melbourne                   132.500000\n",
              "Old Trafford Cricket Ground, Manchester               113.000000\n",
              "Pallekele International Cricket Stadium, Pallekele     72.500000\n",
              "Punjab Cricket Association Stadium, Mohali            153.000000\n",
              "Queens Sports Club, Bulawayo                           59.333333\n",
              "R. Premadasa Stadium, Colombo                          88.000000\n",
              "Rose Bowl, Southampton                                 71.500000\n",
              "Sawai Mansingh Stadium, Jaipur                         61.500000\n",
              "St. George's Park, Port Elizabeth                     126.000000\n",
              "Sydney Cricket Ground, Sydney                          64.500000\n",
              "The Gabba, Brisbane                                   127.000000\n",
              "Trent Bridge, Nottingham                               57.000000\n",
              "Vidarbha Cricket Association Stadium, Nagpur           54.500000\n",
              "WACA Ground, Perth                                    163.000000\n",
              "dtype: float64"
            ]
          },
          "metadata": {},
          "execution_count": 80
        }
      ]
    },
    {
      "cell_type": "code",
      "source": [
        "Y.head()"
      ],
      "metadata": {
        "colab": {
          "base_uri": "https://localhost:8080/",
          "height": 241
        },
        "id": "brIdaTPB06Ju",
        "outputId": "e6273888-2be9-493d-8969-1026f2ca57b0"
      },
      "execution_count": 77,
      "outputs": [
        {
          "output_type": "execute_result",
          "data": {
            "text/plain": [
              "   Score  Strike Rate Type of Match  Position  Innings Dismissed   \\\n",
              "0    114        95.79           ODI         4        1        Yes   \n",
              "1    101       170.00           ODI         4        2         No   \n",
              "2    141       114.63           ODI         1        2         No   \n",
              "3    209       132.27           ODI         1        1        Yes   \n",
              "4    264       152.60           ODI         2        1        Yes   \n",
              "\n",
              "  Man of the Match    Against                              Venue    H/A/N  \\\n",
              "0               No   Zimbabwe       Queens Sports Club, Bulawayo     Away   \n",
              "1              Yes  Sri Lanka       Queens Sports Club, Bulawayo  Neutral   \n",
              "2              Yes  Australia     Sawai Mansingh Stadium, Jaipur     Home   \n",
              "3              Yes  Australia  M. Chinnaswamy Stadium, Bangalore     Home   \n",
              "4              Yes  Sri Lanka              Eden Gardens, Kolkata     Home   \n",
              "\n",
              "  Result  Balls_faced  \n",
              "0   Lost        119.0  \n",
              "1    Won         59.0  \n",
              "2    Won        123.0  \n",
              "3    Won        158.0  \n",
              "4    Won        173.0  "
            ],
            "text/html": [
              "\n",
              "  <div id=\"df-277570a1-af6e-4f73-aac8-13bebc039eb1\" class=\"colab-df-container\">\n",
              "    <div>\n",
              "<style scoped>\n",
              "    .dataframe tbody tr th:only-of-type {\n",
              "        vertical-align: middle;\n",
              "    }\n",
              "\n",
              "    .dataframe tbody tr th {\n",
              "        vertical-align: top;\n",
              "    }\n",
              "\n",
              "    .dataframe thead th {\n",
              "        text-align: right;\n",
              "    }\n",
              "</style>\n",
              "<table border=\"1\" class=\"dataframe\">\n",
              "  <thead>\n",
              "    <tr style=\"text-align: right;\">\n",
              "      <th></th>\n",
              "      <th>Score</th>\n",
              "      <th>Strike Rate</th>\n",
              "      <th>Type of Match</th>\n",
              "      <th>Position</th>\n",
              "      <th>Innings</th>\n",
              "      <th>Dismissed</th>\n",
              "      <th>Man of the Match</th>\n",
              "      <th>Against</th>\n",
              "      <th>Venue</th>\n",
              "      <th>H/A/N</th>\n",
              "      <th>Result</th>\n",
              "      <th>Balls_faced</th>\n",
              "    </tr>\n",
              "  </thead>\n",
              "  <tbody>\n",
              "    <tr>\n",
              "      <th>0</th>\n",
              "      <td>114</td>\n",
              "      <td>95.79</td>\n",
              "      <td>ODI</td>\n",
              "      <td>4</td>\n",
              "      <td>1</td>\n",
              "      <td>Yes</td>\n",
              "      <td>No</td>\n",
              "      <td>Zimbabwe</td>\n",
              "      <td>Queens Sports Club, Bulawayo</td>\n",
              "      <td>Away</td>\n",
              "      <td>Lost</td>\n",
              "      <td>119.0</td>\n",
              "    </tr>\n",
              "    <tr>\n",
              "      <th>1</th>\n",
              "      <td>101</td>\n",
              "      <td>170.00</td>\n",
              "      <td>ODI</td>\n",
              "      <td>4</td>\n",
              "      <td>2</td>\n",
              "      <td>No</td>\n",
              "      <td>Yes</td>\n",
              "      <td>Sri Lanka</td>\n",
              "      <td>Queens Sports Club, Bulawayo</td>\n",
              "      <td>Neutral</td>\n",
              "      <td>Won</td>\n",
              "      <td>59.0</td>\n",
              "    </tr>\n",
              "    <tr>\n",
              "      <th>2</th>\n",
              "      <td>141</td>\n",
              "      <td>114.63</td>\n",
              "      <td>ODI</td>\n",
              "      <td>1</td>\n",
              "      <td>2</td>\n",
              "      <td>No</td>\n",
              "      <td>Yes</td>\n",
              "      <td>Australia</td>\n",
              "      <td>Sawai Mansingh Stadium, Jaipur</td>\n",
              "      <td>Home</td>\n",
              "      <td>Won</td>\n",
              "      <td>123.0</td>\n",
              "    </tr>\n",
              "    <tr>\n",
              "      <th>3</th>\n",
              "      <td>209</td>\n",
              "      <td>132.27</td>\n",
              "      <td>ODI</td>\n",
              "      <td>1</td>\n",
              "      <td>1</td>\n",
              "      <td>Yes</td>\n",
              "      <td>Yes</td>\n",
              "      <td>Australia</td>\n",
              "      <td>M. Chinnaswamy Stadium, Bangalore</td>\n",
              "      <td>Home</td>\n",
              "      <td>Won</td>\n",
              "      <td>158.0</td>\n",
              "    </tr>\n",
              "    <tr>\n",
              "      <th>4</th>\n",
              "      <td>264</td>\n",
              "      <td>152.60</td>\n",
              "      <td>ODI</td>\n",
              "      <td>2</td>\n",
              "      <td>1</td>\n",
              "      <td>Yes</td>\n",
              "      <td>Yes</td>\n",
              "      <td>Sri Lanka</td>\n",
              "      <td>Eden Gardens, Kolkata</td>\n",
              "      <td>Home</td>\n",
              "      <td>Won</td>\n",
              "      <td>173.0</td>\n",
              "    </tr>\n",
              "  </tbody>\n",
              "</table>\n",
              "</div>\n",
              "    <div class=\"colab-df-buttons\">\n",
              "\n",
              "  <div class=\"colab-df-container\">\n",
              "    <button class=\"colab-df-convert\" onclick=\"convertToInteractive('df-277570a1-af6e-4f73-aac8-13bebc039eb1')\"\n",
              "            title=\"Convert this dataframe to an interactive table.\"\n",
              "            style=\"display:none;\">\n",
              "\n",
              "  <svg xmlns=\"http://www.w3.org/2000/svg\" height=\"24px\" viewBox=\"0 -960 960 960\">\n",
              "    <path d=\"M120-120v-720h720v720H120Zm60-500h600v-160H180v160Zm220 220h160v-160H400v160Zm0 220h160v-160H400v160ZM180-400h160v-160H180v160Zm440 0h160v-160H620v160ZM180-180h160v-160H180v160Zm440 0h160v-160H620v160Z\"/>\n",
              "  </svg>\n",
              "    </button>\n",
              "\n",
              "  <style>\n",
              "    .colab-df-container {\n",
              "      display:flex;\n",
              "      gap: 12px;\n",
              "    }\n",
              "\n",
              "    .colab-df-convert {\n",
              "      background-color: #E8F0FE;\n",
              "      border: none;\n",
              "      border-radius: 50%;\n",
              "      cursor: pointer;\n",
              "      display: none;\n",
              "      fill: #1967D2;\n",
              "      height: 32px;\n",
              "      padding: 0 0 0 0;\n",
              "      width: 32px;\n",
              "    }\n",
              "\n",
              "    .colab-df-convert:hover {\n",
              "      background-color: #E2EBFA;\n",
              "      box-shadow: 0px 1px 2px rgba(60, 64, 67, 0.3), 0px 1px 3px 1px rgba(60, 64, 67, 0.15);\n",
              "      fill: #174EA6;\n",
              "    }\n",
              "\n",
              "    .colab-df-buttons div {\n",
              "      margin-bottom: 4px;\n",
              "    }\n",
              "\n",
              "    [theme=dark] .colab-df-convert {\n",
              "      background-color: #3B4455;\n",
              "      fill: #D2E3FC;\n",
              "    }\n",
              "\n",
              "    [theme=dark] .colab-df-convert:hover {\n",
              "      background-color: #434B5C;\n",
              "      box-shadow: 0px 1px 3px 1px rgba(0, 0, 0, 0.15);\n",
              "      filter: drop-shadow(0px 1px 2px rgba(0, 0, 0, 0.3));\n",
              "      fill: #FFFFFF;\n",
              "    }\n",
              "  </style>\n",
              "\n",
              "    <script>\n",
              "      const buttonEl =\n",
              "        document.querySelector('#df-277570a1-af6e-4f73-aac8-13bebc039eb1 button.colab-df-convert');\n",
              "      buttonEl.style.display =\n",
              "        google.colab.kernel.accessAllowed ? 'block' : 'none';\n",
              "\n",
              "      async function convertToInteractive(key) {\n",
              "        const element = document.querySelector('#df-277570a1-af6e-4f73-aac8-13bebc039eb1');\n",
              "        const dataTable =\n",
              "          await google.colab.kernel.invokeFunction('convertToInteractive',\n",
              "                                                    [key], {});\n",
              "        if (!dataTable) return;\n",
              "\n",
              "        const docLinkHtml = 'Like what you see? Visit the ' +\n",
              "          '<a target=\"_blank\" href=https://colab.research.google.com/notebooks/data_table.ipynb>data table notebook</a>'\n",
              "          + ' to learn more about interactive tables.';\n",
              "        element.innerHTML = '';\n",
              "        dataTable['output_type'] = 'display_data';\n",
              "        await google.colab.output.renderOutput(dataTable, element);\n",
              "        const docLink = document.createElement('div');\n",
              "        docLink.innerHTML = docLinkHtml;\n",
              "        element.appendChild(docLink);\n",
              "      }\n",
              "    </script>\n",
              "  </div>\n",
              "\n",
              "\n",
              "<div id=\"df-3dda070b-ea78-4d08-94e1-e34528c06559\">\n",
              "  <button class=\"colab-df-quickchart\" onclick=\"quickchart('df-3dda070b-ea78-4d08-94e1-e34528c06559')\"\n",
              "            title=\"Suggest charts\"\n",
              "            style=\"display:none;\">\n",
              "\n",
              "<svg xmlns=\"http://www.w3.org/2000/svg\" height=\"24px\"viewBox=\"0 0 24 24\"\n",
              "     width=\"24px\">\n",
              "    <g>\n",
              "        <path d=\"M19 3H5c-1.1 0-2 .9-2 2v14c0 1.1.9 2 2 2h14c1.1 0 2-.9 2-2V5c0-1.1-.9-2-2-2zM9 17H7v-7h2v7zm4 0h-2V7h2v10zm4 0h-2v-4h2v4z\"/>\n",
              "    </g>\n",
              "</svg>\n",
              "  </button>\n",
              "\n",
              "<style>\n",
              "  .colab-df-quickchart {\n",
              "      --bg-color: #E8F0FE;\n",
              "      --fill-color: #1967D2;\n",
              "      --hover-bg-color: #E2EBFA;\n",
              "      --hover-fill-color: #174EA6;\n",
              "      --disabled-fill-color: #AAA;\n",
              "      --disabled-bg-color: #DDD;\n",
              "  }\n",
              "\n",
              "  [theme=dark] .colab-df-quickchart {\n",
              "      --bg-color: #3B4455;\n",
              "      --fill-color: #D2E3FC;\n",
              "      --hover-bg-color: #434B5C;\n",
              "      --hover-fill-color: #FFFFFF;\n",
              "      --disabled-bg-color: #3B4455;\n",
              "      --disabled-fill-color: #666;\n",
              "  }\n",
              "\n",
              "  .colab-df-quickchart {\n",
              "    background-color: var(--bg-color);\n",
              "    border: none;\n",
              "    border-radius: 50%;\n",
              "    cursor: pointer;\n",
              "    display: none;\n",
              "    fill: var(--fill-color);\n",
              "    height: 32px;\n",
              "    padding: 0;\n",
              "    width: 32px;\n",
              "  }\n",
              "\n",
              "  .colab-df-quickchart:hover {\n",
              "    background-color: var(--hover-bg-color);\n",
              "    box-shadow: 0 1px 2px rgba(60, 64, 67, 0.3), 0 1px 3px 1px rgba(60, 64, 67, 0.15);\n",
              "    fill: var(--button-hover-fill-color);\n",
              "  }\n",
              "\n",
              "  .colab-df-quickchart-complete:disabled,\n",
              "  .colab-df-quickchart-complete:disabled:hover {\n",
              "    background-color: var(--disabled-bg-color);\n",
              "    fill: var(--disabled-fill-color);\n",
              "    box-shadow: none;\n",
              "  }\n",
              "\n",
              "  .colab-df-spinner {\n",
              "    border: 2px solid var(--fill-color);\n",
              "    border-color: transparent;\n",
              "    border-bottom-color: var(--fill-color);\n",
              "    animation:\n",
              "      spin 1s steps(1) infinite;\n",
              "  }\n",
              "\n",
              "  @keyframes spin {\n",
              "    0% {\n",
              "      border-color: transparent;\n",
              "      border-bottom-color: var(--fill-color);\n",
              "      border-left-color: var(--fill-color);\n",
              "    }\n",
              "    20% {\n",
              "      border-color: transparent;\n",
              "      border-left-color: var(--fill-color);\n",
              "      border-top-color: var(--fill-color);\n",
              "    }\n",
              "    30% {\n",
              "      border-color: transparent;\n",
              "      border-left-color: var(--fill-color);\n",
              "      border-top-color: var(--fill-color);\n",
              "      border-right-color: var(--fill-color);\n",
              "    }\n",
              "    40% {\n",
              "      border-color: transparent;\n",
              "      border-right-color: var(--fill-color);\n",
              "      border-top-color: var(--fill-color);\n",
              "    }\n",
              "    60% {\n",
              "      border-color: transparent;\n",
              "      border-right-color: var(--fill-color);\n",
              "    }\n",
              "    80% {\n",
              "      border-color: transparent;\n",
              "      border-right-color: var(--fill-color);\n",
              "      border-bottom-color: var(--fill-color);\n",
              "    }\n",
              "    90% {\n",
              "      border-color: transparent;\n",
              "      border-bottom-color: var(--fill-color);\n",
              "    }\n",
              "  }\n",
              "</style>\n",
              "\n",
              "  <script>\n",
              "    async function quickchart(key) {\n",
              "      const quickchartButtonEl =\n",
              "        document.querySelector('#' + key + ' button');\n",
              "      quickchartButtonEl.disabled = true;  // To prevent multiple clicks.\n",
              "      quickchartButtonEl.classList.add('colab-df-spinner');\n",
              "      try {\n",
              "        const charts = await google.colab.kernel.invokeFunction(\n",
              "            'suggestCharts', [key], {});\n",
              "      } catch (error) {\n",
              "        console.error('Error during call to suggestCharts:', error);\n",
              "      }\n",
              "      quickchartButtonEl.classList.remove('colab-df-spinner');\n",
              "      quickchartButtonEl.classList.add('colab-df-quickchart-complete');\n",
              "    }\n",
              "    (() => {\n",
              "      let quickchartButtonEl =\n",
              "        document.querySelector('#df-3dda070b-ea78-4d08-94e1-e34528c06559 button');\n",
              "      quickchartButtonEl.style.display =\n",
              "        google.colab.kernel.accessAllowed ? 'block' : 'none';\n",
              "    })();\n",
              "  </script>\n",
              "</div>\n",
              "\n",
              "    </div>\n",
              "  </div>\n"
            ],
            "application/vnd.google.colaboratory.intrinsic+json": {
              "type": "dataframe",
              "variable_name": "Y",
              "summary": "{\n  \"name\": \"Y\",\n  \"rows\": 31,\n  \"fields\": [\n    {\n      \"column\": \"Score\",\n      \"properties\": {\n        \"dtype\": \"number\",\n        \"std\": 36,\n        \"min\": 101,\n        \"max\": 264,\n        \"num_unique_values\": 27,\n        \"samples\": [\n          171,\n          147,\n          124\n        ],\n        \"semantic_type\": \"\",\n        \"description\": \"\"\n      }\n    },\n    {\n      \"column\": \"Strike Rate\",\n      \"properties\": {\n        \"dtype\": \"number\",\n        \"std\": 20.449355769751023,\n        \"min\": 85.1,\n        \"max\": 170.0,\n        \"num_unique_values\": 31,\n        \"samples\": [\n          115.21,\n          135.94,\n          123.89\n        ],\n        \"semantic_type\": \"\",\n        \"description\": \"\"\n      }\n    },\n    {\n      \"column\": \"Type of Match\",\n      \"properties\": {\n        \"dtype\": \"category\",\n        \"num_unique_values\": 1,\n        \"samples\": [\n          \"ODI\"\n        ],\n        \"semantic_type\": \"\",\n        \"description\": \"\"\n      }\n    },\n    {\n      \"column\": \"Position\",\n      \"properties\": {\n        \"dtype\": \"number\",\n        \"std\": 0,\n        \"min\": 1,\n        \"max\": 4,\n        \"num_unique_values\": 3,\n        \"samples\": [\n          4\n        ],\n        \"semantic_type\": \"\",\n        \"description\": \"\"\n      }\n    },\n    {\n      \"column\": \"Innings\",\n      \"properties\": {\n        \"dtype\": \"number\",\n        \"std\": 0,\n        \"min\": 1,\n        \"max\": 2,\n        \"num_unique_values\": 2,\n        \"samples\": [\n          2\n        ],\n        \"semantic_type\": \"\",\n        \"description\": \"\"\n      }\n    },\n    {\n      \"column\": \"Dismissed \",\n      \"properties\": {\n        \"dtype\": \"category\",\n        \"num_unique_values\": 2,\n        \"samples\": [\n          \"No\"\n        ],\n        \"semantic_type\": \"\",\n        \"description\": \"\"\n      }\n    },\n    {\n      \"column\": \"Man of the Match\",\n      \"properties\": {\n        \"dtype\": \"category\",\n        \"num_unique_values\": 2,\n        \"samples\": [\n          \"Yes\"\n        ],\n        \"semantic_type\": \"\",\n        \"description\": \"\"\n      }\n    },\n    {\n      \"column\": \"Against\",\n      \"properties\": {\n        \"dtype\": \"category\",\n        \"num_unique_values\": 10,\n        \"samples\": [\n          \"West Indies\"\n        ],\n        \"semantic_type\": \"\",\n        \"description\": \"\"\n      }\n    },\n    {\n      \"column\": \"Venue\",\n      \"properties\": {\n        \"dtype\": \"string\",\n        \"num_unique_values\": 25,\n        \"samples\": [\n          \"Edgbaston Cricket Ground, Birmingham\"\n        ],\n        \"semantic_type\": \"\",\n        \"description\": \"\"\n      }\n    },\n    {\n      \"column\": \"H/A/N\",\n      \"properties\": {\n        \"dtype\": \"category\",\n        \"num_unique_values\": 3,\n        \"samples\": [\n          \"Away\"\n        ],\n        \"semantic_type\": \"\",\n        \"description\": \"\"\n      }\n    },\n    {\n      \"column\": \"Result\",\n      \"properties\": {\n        \"dtype\": \"category\",\n        \"num_unique_values\": 3,\n        \"samples\": [\n          \"Lost\"\n        ],\n        \"semantic_type\": \"\",\n        \"description\": \"\"\n      }\n    },\n    {\n      \"column\": \"Balls_faced\",\n      \"properties\": {\n        \"dtype\": \"number\",\n        \"std\": 25.14670931249876,\n        \"min\": 59.0,\n        \"max\": 173.0,\n        \"num_unique_values\": 26,\n        \"samples\": [\n          163.0\n        ],\n        \"semantic_type\": \"\",\n        \"description\": \"\"\n      }\n    }\n  ]\n}"
            }
          },
          "metadata": {},
          "execution_count": 77
        }
      ]
    },
    {
      "cell_type": "markdown",
      "source": [
        "# No of times dismissed - determining the weakness/comfort of his batting positions"
      ],
      "metadata": {
        "id": "q-aoJ_W5zcQ-"
      }
    },
    {
      "cell_type": "code",
      "source": [
        "Y.groupby('Position')['Dismissed '].count()"
      ],
      "metadata": {
        "colab": {
          "base_uri": "https://localhost:8080/"
        },
        "id": "Vm3GT5UgyTfP",
        "outputId": "994b1910-fbf9-4a7b-b78c-b27270d74d1b"
      },
      "execution_count": 69,
      "outputs": [
        {
          "output_type": "execute_result",
          "data": {
            "text/plain": [
              "Position\n",
              "1    23\n",
              "2     6\n",
              "4     2\n",
              "Name: Dismissed , dtype: int64"
            ]
          },
          "metadata": {},
          "execution_count": 69
        }
      ]
    },
    {
      "cell_type": "markdown",
      "source": [
        "# Surprise Surprise!!!!"
      ],
      "metadata": {
        "id": "K3kNvA2kxtIW"
      }
    },
    {
      "cell_type": "code",
      "source": [
        "Y.groupby('Dismissed ')['Result'].count()"
      ],
      "metadata": {
        "colab": {
          "base_uri": "https://localhost:8080/"
        },
        "id": "zPMN2Qk2w8ZH",
        "outputId": "38360fa0-2976-4c09-fa27-ef667ce70175"
      },
      "execution_count": 65,
      "outputs": [
        {
          "output_type": "execute_result",
          "data": {
            "text/plain": [
              "Dismissed \n",
              "No     10\n",
              "Yes    21\n",
              "Name: Result, dtype: int64"
            ]
          },
          "metadata": {},
          "execution_count": 65
        }
      ]
    },
    {
      "cell_type": "code",
      "source": [
        "(Y.groupby('Dismissed ')['Result'].count()/31)*100"
      ],
      "metadata": {
        "colab": {
          "base_uri": "https://localhost:8080/"
        },
        "id": "BRcsuYXCx23m",
        "outputId": "447bf934-f925-48b1-8977-43ef88e2e9ef"
      },
      "execution_count": 68,
      "outputs": [
        {
          "output_type": "execute_result",
          "data": {
            "text/plain": [
              "Dismissed \n",
              "No     32.258065\n",
              "Yes    67.741935\n",
              "Name: Result, dtype: float64"
            ]
          },
          "metadata": {},
          "execution_count": 68
        }
      ]
    },
    {
      "cell_type": "markdown",
      "source": [
        "# **India have won only 32% of their matches when Rohit was not dismissed**"
      ],
      "metadata": {
        "id": "YBwSzWf3yEtZ"
      }
    },
    {
      "cell_type": "markdown",
      "source": [
        "# Average w.r.t H/A/N and Opposition"
      ],
      "metadata": {
        "id": "9JsTW1Kgu1hu"
      }
    },
    {
      "cell_type": "code",
      "source": [
        "Y.groupby(by=['H/A/N','Against'])['Score'].sum()/Y.groupby(by=['H/A/N','Against'])['Innings'].sum()"
      ],
      "metadata": {
        "colab": {
          "base_uri": "https://localhost:8080/"
        },
        "id": "upaaUBa9urD_",
        "outputId": "c45e1b9c-87b6-4b91-c086-36020db30998"
      },
      "execution_count": 64,
      "outputs": [
        {
          "output_type": "execute_result",
          "data": {
            "text/plain": [
              "H/A/N    Against     \n",
              "Away     Australia       113.200000\n",
              "         England          59.750000\n",
              "         South Africa    115.000000\n",
              "         Sri Lanka        76.000000\n",
              "         Zimbabwe        114.000000\n",
              "Home     Afghanistan      65.500000\n",
              "         Australia        84.857143\n",
              "         New Zealand     124.000000\n",
              "         South Africa     75.000000\n",
              "         Sri Lanka       236.000000\n",
              "         West Indies     118.250000\n",
              "Neutral  Bangladesh       91.000000\n",
              "         Pakistan         83.666667\n",
              "         South Africa     61.000000\n",
              "         Sri Lanka        51.000000\n",
              "dtype: float64"
            ]
          },
          "metadata": {},
          "execution_count": 64
        }
      ]
    },
    {
      "cell_type": "markdown",
      "source": [
        "# Venue-Opposition Wise Average"
      ],
      "metadata": {
        "id": "uHkJJwc9uPVY"
      }
    },
    {
      "cell_type": "code",
      "source": [
        "Y.groupby(by=['Venue','Against'])['Score'].sum()/Y.groupby(by=['Venue','Against'])['Innings'].sum()"
      ],
      "metadata": {
        "colab": {
          "base_uri": "https://localhost:8080/"
        },
        "id": "mCQeERh6uD5I",
        "outputId": "ceecb2f3-e70b-4f69-88c8-355904d1c408"
      },
      "execution_count": 63,
      "outputs": [
        {
          "output_type": "execute_result",
          "data": {
            "text/plain": [
              "Venue                                               Against     \n",
              "ACA Stadium, Guwahati                               West Indies      76.000000\n",
              "ACA-VDCA Stadium, Vishakhapatnam                    West Indies     159.000000\n",
              "Arun Jaitley Stadium, Delhi                         Afghanistan      65.500000\n",
              "Brabourne Stadium, Mumbai                           West Indies     162.000000\n",
              "Dubai Cricket Stadium, Dubai                        Pakistan         55.500000\n",
              "Eden Gardens, Kolkata                               Sri Lanka       264.000000\n",
              "Edgbaston Cricket Ground, Birmingham                Bangladesh       75.666667\n",
              "                                                    England          51.000000\n",
              "Green Park Stadium, Kanpur                          New Zealand     147.000000\n",
              "                                                    South Africa     75.000000\n",
              "Headingley Cricket Ground, Leeds                    Sri Lanka        51.500000\n",
              "Holkar Cricket Stadium, Indore                      New Zealand     101.000000\n",
              "M. Chinnaswamy Stadium, Bangalore                   Australia       109.333333\n",
              "Melbourne Cricket Ground, Melbourne                 Australia       138.000000\n",
              "                                                    Bangladesh      137.000000\n",
              "Old Trafford Cricket Ground, Manchester             Pakistan        140.000000\n",
              "Pallekele International Cricket Stadium, Pallekele  Sri Lanka        62.000000\n",
              "Punjab Cricket Association Stadium, Mohali          Sri Lanka       208.000000\n",
              "Queens Sports Club, Bulawayo                        Sri Lanka        50.500000\n",
              "                                                    Zimbabwe        114.000000\n",
              "R. Premadasa Stadium, Colombo                       Sri Lanka       104.000000\n",
              "Rose Bowl, Southampton                              South Africa     61.000000\n",
              "Sawai Mansingh Stadium, Jaipur                      Australia        70.500000\n",
              "St. George's Park, Port Elizabeth                   South Africa    115.000000\n",
              "Sydney Cricket Ground, Sydney                       Australia        66.500000\n",
              "The Gabba, Brisbane                                 Australia       124.000000\n",
              "Trent Bridge, Nottingham                            England          68.500000\n",
              "Vidarbha Cricket Association Stadium, Nagpur        Australia        62.500000\n",
              "WACA Ground, Perth                                  Australia       171.000000\n",
              "dtype: float64"
            ]
          },
          "metadata": {},
          "execution_count": 63
        }
      ]
    },
    {
      "cell_type": "markdown",
      "source": [
        "# Venue wise Average per Innings"
      ],
      "metadata": {
        "id": "59RFQDcht9-j"
      }
    },
    {
      "cell_type": "code",
      "source": [
        "Y.groupby('Venue')['Score'].sum()/Y.groupby('Venue')['Innings'].sum()"
      ],
      "metadata": {
        "colab": {
          "base_uri": "https://localhost:8080/"
        },
        "id": "X2fpfpnVt2ce",
        "outputId": "93bf8bce-032c-48b9-96a9-7cb3160574aa"
      },
      "execution_count": 62,
      "outputs": [
        {
          "output_type": "execute_result",
          "data": {
            "text/plain": [
              "Venue\n",
              "ACA Stadium, Guwahati                                  76.000000\n",
              "ACA-VDCA Stadium, Vishakhapatnam                      159.000000\n",
              "Arun Jaitley Stadium, Delhi                            65.500000\n",
              "Brabourne Stadium, Mumbai                             162.000000\n",
              "Dubai Cricket Stadium, Dubai                           55.500000\n",
              "Eden Gardens, Kolkata                                 264.000000\n",
              "Edgbaston Cricket Ground, Birmingham                   65.800000\n",
              "Green Park Stadium, Kanpur                             99.000000\n",
              "Headingley Cricket Ground, Leeds                       51.500000\n",
              "Holkar Cricket Stadium, Indore                        101.000000\n",
              "M. Chinnaswamy Stadium, Bangalore                     109.333333\n",
              "Melbourne Cricket Ground, Melbourne                   137.500000\n",
              "Old Trafford Cricket Ground, Manchester               140.000000\n",
              "Pallekele International Cricket Stadium, Pallekele     62.000000\n",
              "Punjab Cricket Association Stadium, Mohali            208.000000\n",
              "Queens Sports Club, Bulawayo                           71.666667\n",
              "R. Premadasa Stadium, Colombo                         104.000000\n",
              "Rose Bowl, Southampton                                 61.000000\n",
              "Sawai Mansingh Stadium, Jaipur                         70.500000\n",
              "St. George's Park, Port Elizabeth                     115.000000\n",
              "Sydney Cricket Ground, Sydney                          66.500000\n",
              "The Gabba, Brisbane                                   124.000000\n",
              "Trent Bridge, Nottingham                               68.500000\n",
              "Vidarbha Cricket Association Stadium, Nagpur           62.500000\n",
              "WACA Ground, Perth                                    171.000000\n",
              "dtype: float64"
            ]
          },
          "metadata": {},
          "execution_count": 62
        }
      ]
    },
    {
      "cell_type": "markdown",
      "source": [
        "# Achievements w.r.t Result"
      ],
      "metadata": {
        "id": "QsOxF4F1tiaW"
      }
    },
    {
      "cell_type": "code",
      "source": [
        "Y.groupby(by='Man of the Match')['Result'].count()"
      ],
      "metadata": {
        "colab": {
          "base_uri": "https://localhost:8080/"
        },
        "id": "Y2R36tt_ttHJ",
        "outputId": "af32525e-76c7-48fa-c524-fe0f61456344"
      },
      "execution_count": 61,
      "outputs": [
        {
          "output_type": "execute_result",
          "data": {
            "text/plain": [
              "Man of the Match\n",
              "No     12\n",
              "Yes    19\n",
              "Name: Result, dtype: int64"
            ]
          },
          "metadata": {},
          "execution_count": 61
        }
      ]
    },
    {
      "cell_type": "code",
      "source": [
        "Y.groupby(by='Result')['Man of the Match'].count()"
      ],
      "metadata": {
        "colab": {
          "base_uri": "https://localhost:8080/"
        },
        "id": "5s7VHoIetWHv",
        "outputId": "f3a1ae1b-4855-45cc-cb97-0b366b4ec7a5"
      },
      "execution_count": 60,
      "outputs": [
        {
          "output_type": "execute_result",
          "data": {
            "text/plain": [
              "Result\n",
              "Lost     7\n",
              "Won     23\n",
              "Won      1\n",
              "Name: Man of the Match, dtype: int64"
            ]
          },
          "metadata": {},
          "execution_count": 60
        }
      ]
    },
    {
      "cell_type": "markdown",
      "source": [
        "# Average w.r.t H/A/N"
      ],
      "metadata": {
        "id": "k-QjsX8kr9vx"
      }
    },
    {
      "cell_type": "code",
      "source": [
        "Y.groupby(by='H/A/N')['Score'].sum()/Y.groupby(by='H/A/N')['Innings'].sum()"
      ],
      "metadata": {
        "colab": {
          "base_uri": "https://localhost:8080/"
        },
        "id": "7kYCjfu6tEST",
        "outputId": "b48c2384-39e3-4704-8942-f12325e96e45"
      },
      "execution_count": 59,
      "outputs": [
        {
          "output_type": "execute_result",
          "data": {
            "text/plain": [
              "H/A/N\n",
              "Away        90.142857\n",
              "Home       108.842105\n",
              "Neutral     72.384615\n",
              "dtype: float64"
            ]
          },
          "metadata": {},
          "execution_count": 59
        }
      ]
    },
    {
      "cell_type": "markdown",
      "source": [
        "# Average per Innings when MOM and not"
      ],
      "metadata": {
        "id": "ZPfvSQHfsqk1"
      }
    },
    {
      "cell_type": "code",
      "source": [
        "Y.groupby('Man of the Match')['Score'].sum()/Y.groupby('Man of the Match')['Innings'].sum()"
      ],
      "metadata": {
        "colab": {
          "base_uri": "https://localhost:8080/"
        },
        "id": "38CwYjcNsRHe",
        "outputId": "d159568f-b585-47dc-9de1-3ca963760dd5"
      },
      "execution_count": 57,
      "outputs": [
        {
          "output_type": "execute_result",
          "data": {
            "text/plain": [
              "Man of the Match\n",
              "No      80.894737\n",
              "Yes    101.259259\n",
              "dtype: float64"
            ]
          },
          "metadata": {},
          "execution_count": 57
        }
      ]
    },
    {
      "cell_type": "markdown",
      "source": [],
      "metadata": {
        "id": "WzGaavjwsQlh"
      }
    },
    {
      "cell_type": "markdown",
      "source": [
        "# Average w.r.t Positions per Innings"
      ],
      "metadata": {
        "id": "j6CIco4FsJBo"
      }
    },
    {
      "cell_type": "code",
      "source": [
        "Y.groupby('Position')['Score'].sum()/Y.groupby('Position')['Innings'].sum()"
      ],
      "metadata": {
        "colab": {
          "base_uri": "https://localhost:8080/"
        },
        "id": "8qbmlVa2r9Uy",
        "outputId": "5d03c4dd-5648-4a50-cb94-7129818fd483"
      },
      "execution_count": 56,
      "outputs": [
        {
          "output_type": "execute_result",
          "data": {
            "text/plain": [
              "Position\n",
              "1    94.647059\n",
              "2    93.111111\n",
              "4    71.666667\n",
              "dtype: float64"
            ]
          },
          "metadata": {},
          "execution_count": 56
        }
      ]
    },
    {
      "cell_type": "markdown",
      "source": [
        "# Average W.R.T Teams"
      ],
      "metadata": {
        "id": "n-8q0AKPrQPh"
      }
    },
    {
      "cell_type": "code",
      "source": [
        "(Y.groupby('Against')['Score'].sum())/Y.groupby('Against')['Innings'].sum()"
      ],
      "metadata": {
        "colab": {
          "base_uri": "https://localhost:8080/"
        },
        "id": "_PFtibN-rP28",
        "outputId": "ca607126-90b6-48ad-e0df-e0f6cf39f63b"
      },
      "execution_count": 55,
      "outputs": [
        {
          "output_type": "execute_result",
          "data": {
            "text/plain": [
              "Against\n",
              "Afghanistan      65.500000\n",
              "Australia        96.666667\n",
              "Bangladesh       91.000000\n",
              "England          59.750000\n",
              "New Zealand     124.000000\n",
              "Pakistan         83.666667\n",
              "South Africa     77.400000\n",
              "Sri Lanka       100.444444\n",
              "West Indies     118.250000\n",
              "Zimbabwe        114.000000\n",
              "dtype: float64"
            ]
          },
          "metadata": {},
          "execution_count": 55
        }
      ]
    },
    {
      "cell_type": "markdown",
      "source": [
        "# Average w.r.t to Venues"
      ],
      "metadata": {
        "id": "_8uAyksKrMPE"
      }
    },
    {
      "cell_type": "code",
      "source": [
        "Y.groupby('Venue')['Score'].mean()"
      ],
      "metadata": {
        "colab": {
          "base_uri": "https://localhost:8080/"
        },
        "id": "Oad7Xet6rCaV",
        "outputId": "bb234697-dab8-4503-89f3-9f7f09ea0d2a"
      },
      "execution_count": 54,
      "outputs": [
        {
          "output_type": "execute_result",
          "data": {
            "text/plain": [
              "Venue\n",
              "ACA Stadium, Guwahati                                 152.000000\n",
              "ACA-VDCA Stadium, Vishakhapatnam                      159.000000\n",
              "Arun Jaitley Stadium, Delhi                           131.000000\n",
              "Brabourne Stadium, Mumbai                             162.000000\n",
              "Dubai Cricket Stadium, Dubai                          111.000000\n",
              "Eden Gardens, Kolkata                                 264.000000\n",
              "Edgbaston Cricket Ground, Birmingham                  109.666667\n",
              "Green Park Stadium, Kanpur                            148.500000\n",
              "Headingley Cricket Ground, Leeds                      103.000000\n",
              "Holkar Cricket Stadium, Indore                        101.000000\n",
              "M. Chinnaswamy Stadium, Bangalore                     164.000000\n",
              "Melbourne Cricket Ground, Melbourne                   137.500000\n",
              "Old Trafford Cricket Ground, Manchester               140.000000\n",
              "Pallekele International Cricket Stadium, Pallekele    124.000000\n",
              "Punjab Cricket Association Stadium, Mohali            208.000000\n",
              "Queens Sports Club, Bulawayo                          107.500000\n",
              "R. Premadasa Stadium, Colombo                         104.000000\n",
              "Rose Bowl, Southampton                                122.000000\n",
              "Sawai Mansingh Stadium, Jaipur                        141.000000\n",
              "St. George's Park, Port Elizabeth                     115.000000\n",
              "Sydney Cricket Ground, Sydney                         133.000000\n",
              "The Gabba, Brisbane                                   124.000000\n",
              "Trent Bridge, Nottingham                              137.000000\n",
              "Vidarbha Cricket Association Stadium, Nagpur          125.000000\n",
              "WACA Ground, Perth                                    171.000000\n",
              "Name: Score, dtype: float64"
            ]
          },
          "metadata": {},
          "execution_count": 54
        }
      ]
    },
    {
      "cell_type": "markdown",
      "source": [
        "#Average ODI Strike Rate"
      ],
      "metadata": {
        "id": "DLBcg42QqwSD"
      }
    },
    {
      "cell_type": "code",
      "source": [
        "Y['Strike Rate'].sum()/Y['Innings'].sum()"
      ],
      "metadata": {
        "colab": {
          "base_uri": "https://localhost:8080/"
        },
        "id": "Tg-na4afqqWB",
        "outputId": "6501d303-35f8-4933-f569-3ac236a13bec"
      },
      "execution_count": 52,
      "outputs": [
        {
          "output_type": "execute_result",
          "data": {
            "text/plain": [
              "76.27195652173914"
            ]
          },
          "metadata": {},
          "execution_count": 52
        }
      ]
    },
    {
      "cell_type": "markdown",
      "source": [
        "#Rohit's Average in ODI's"
      ],
      "metadata": {
        "id": "Atk-bdruq7sX"
      }
    },
    {
      "cell_type": "code",
      "source": [
        "Y['Score'].sum()/Y['Innings'].sum()"
      ],
      "metadata": {
        "colab": {
          "base_uri": "https://localhost:8080/"
        },
        "id": "IeoN-DLyq0An",
        "outputId": "e2763d52-6911-413c-826e-afb269f667a9"
      },
      "execution_count": 53,
      "outputs": [
        {
          "output_type": "execute_result",
          "data": {
            "text/plain": [
              "92.84782608695652"
            ]
          },
          "metadata": {},
          "execution_count": 53
        }
      ]
    },
    {
      "cell_type": "code",
      "source": [
        "Y['Innings'].sum()"
      ],
      "metadata": {
        "colab": {
          "base_uri": "https://localhost:8080/"
        },
        "id": "DhH9KhhypoLr",
        "outputId": "a1ceb7ed-c9d3-4530-d29c-e6e7e33756e2"
      },
      "execution_count": 43,
      "outputs": [
        {
          "output_type": "execute_result",
          "data": {
            "text/plain": [
              "46"
            ]
          },
          "metadata": {},
          "execution_count": 43
        }
      ]
    },
    {
      "cell_type": "code",
      "source": [
        "Y.Innings.value_counts()"
      ],
      "metadata": {
        "colab": {
          "base_uri": "https://localhost:8080/"
        },
        "id": "d5ee9GqOp0Qr",
        "outputId": "8ce392bf-5e13-46ef-8dad-1ea28c4c548d"
      },
      "execution_count": 45,
      "outputs": [
        {
          "output_type": "execute_result",
          "data": {
            "text/plain": [
              "Innings\n",
              "1    16\n",
              "2    15\n",
              "Name: count, dtype: int64"
            ]
          },
          "metadata": {},
          "execution_count": 45
        }
      ]
    },
    {
      "cell_type": "code",
      "source": [
        "Y['Against'].value_counts()"
      ],
      "metadata": {
        "colab": {
          "base_uri": "https://localhost:8080/"
        },
        "id": "y_T9Yl0wp2Q8",
        "outputId": "152e6c95-15e2-4b03-dea4-d5f7ccd0948e"
      },
      "execution_count": 46,
      "outputs": [
        {
          "output_type": "execute_result",
          "data": {
            "text/plain": [
              "Against\n",
              "Australia       8\n",
              "Sri Lanka       6\n",
              "Bangladesh      3\n",
              "South Africa    3\n",
              "West Indies     3\n",
              "New Zealand     2\n",
              "England         2\n",
              "Pakistan        2\n",
              "Zimbabwe        1\n",
              "Afghanistan     1\n",
              "Name: count, dtype: int64"
            ]
          },
          "metadata": {},
          "execution_count": 46
        }
      ]
    },
    {
      "cell_type": "code",
      "source": [
        "Y.groupby('Against')['Innings'].sum()"
      ],
      "metadata": {
        "colab": {
          "base_uri": "https://localhost:8080/"
        },
        "id": "7sP1b5YwqICG",
        "outputId": "e647137b-0fc2-4769-aeab-2f368bebb15d"
      },
      "execution_count": 47,
      "outputs": [
        {
          "output_type": "execute_result",
          "data": {
            "text/plain": [
              "Against\n",
              "Afghanistan      2\n",
              "Australia       12\n",
              "Bangladesh       4\n",
              "England          4\n",
              "New Zealand      2\n",
              "Pakistan         3\n",
              "South Africa     5\n",
              "Sri Lanka        9\n",
              "West Indies      4\n",
              "Zimbabwe         1\n",
              "Name: Innings, dtype: int64"
            ]
          },
          "metadata": {},
          "execution_count": 47
        }
      ]
    },
    {
      "cell_type": "code",
      "source": [
        "Y['Venue'].value_counts()"
      ],
      "metadata": {
        "colab": {
          "base_uri": "https://localhost:8080/"
        },
        "id": "ePgV5nJBqRfL",
        "outputId": "613e82a0-3c93-440c-b143-a794d077aa1e"
      },
      "execution_count": 51,
      "outputs": [
        {
          "output_type": "execute_result",
          "data": {
            "text/plain": [
              "Venue\n",
              "Edgbaston Cricket Ground, Birmingham                  3\n",
              "Queens Sports Club, Bulawayo                          2\n",
              "M. Chinnaswamy Stadium, Bangalore                     2\n",
              "Melbourne Cricket Ground, Melbourne                   2\n",
              "Green Park Stadium, Kanpur                            2\n",
              "Dubai Cricket Stadium, Dubai                          1\n",
              "Holkar Cricket Stadium, Indore                        1\n",
              "ACA-VDCA Stadium, Vishakhapatnam                      1\n",
              "Headingley Cricket Ground, Leeds                      1\n",
              "Old Trafford Cricket Ground, Manchester               1\n",
              "Rose Bowl, Southampton                                1\n",
              "Sydney Cricket Ground, Sydney                         1\n",
              "Brabourne Stadium, Mumbai                             1\n",
              "ACA Stadium, Guwahati                                 1\n",
              "Punjab Cricket Association Stadium, Mohali            1\n",
              "Trent Bridge, Nottingham                              1\n",
              "St. George's Park, Port Elizabeth                     1\n",
              "Sawai Mansingh Stadium, Jaipur                        1\n",
              "Vidarbha Cricket Association Stadium, Nagpur          1\n",
              "R. Premadasa Stadium, Colombo                         1\n",
              "Pallekele International Cricket Stadium, Pallekele    1\n",
              "The Gabba, Brisbane                                   1\n",
              "WACA Ground, Perth                                    1\n",
              "Eden Gardens, Kolkata                                 1\n",
              "Arun Jaitley Stadium, Delhi                           1\n",
              "Name: count, dtype: int64"
            ]
          },
          "metadata": {},
          "execution_count": 51
        }
      ]
    }
  ]
}